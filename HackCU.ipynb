{
 "cells": [
  {
   "cell_type": "code",
   "execution_count": 40,
   "metadata": {},
   "outputs": [],
   "source": [
    "import re\n",
    "import pickle\n",
    "import datetime\n",
    "import pandas as pd\n",
    "import seaborn as sns\n",
    "from wordcloud import WordCloud\n",
    "from collections import Counter\n",
    "import matplotlib.pyplot as plt"
   ]
  },
  {
   "cell_type": "code",
   "execution_count": 48,
   "metadata": {},
   "outputs": [],
   "source": [
    "df = pickle.load(open( \"oppenheimerWebData.pkl\", \"rb\" ))"
   ]
  },
  {
   "cell_type": "code",
   "execution_count": 49,
   "metadata": {},
   "outputs": [
    {
     "data": {
      "text/html": [
       "<div>\n",
       "<style scoped>\n",
       "    .dataframe tbody tr th:only-of-type {\n",
       "        vertical-align: middle;\n",
       "    }\n",
       "\n",
       "    .dataframe tbody tr th {\n",
       "        vertical-align: top;\n",
       "    }\n",
       "\n",
       "    .dataframe thead th {\n",
       "        text-align: right;\n",
       "    }\n",
       "</style>\n",
       "<table border=\"1\" class=\"dataframe\">\n",
       "  <thead>\n",
       "    <tr style=\"text-align: right;\">\n",
       "      <th></th>\n",
       "      <th>visitor-ids</th>\n",
       "      <th>user-ids</th>\n",
       "      <th>timestamp</th>\n",
       "      <th>webpage</th>\n",
       "      <th>state</th>\n",
       "      <th>browser</th>\n",
       "      <th>platform</th>\n",
       "    </tr>\n",
       "  </thead>\n",
       "  <tbody>\n",
       "    <tr>\n",
       "      <th>0</th>\n",
       "      <td>239007</td>\n",
       "      <td>null</td>\n",
       "      <td>2.155359e+07</td>\n",
       "      <td>/doc_viewer/ETF_Trust_Single_Factor_SAI.pdf</td>\n",
       "      <td>North Carolina</td>\n",
       "      <td>desktop-macOS</td>\n",
       "      <td>Safari</td>\n",
       "    </tr>\n",
       "    <tr>\n",
       "      <th>1</th>\n",
       "      <td>239007</td>\n",
       "      <td>null</td>\n",
       "      <td>2.156321e+07</td>\n",
       "      <td>/da/Rochester_Limited_Term_California_Municipa...</td>\n",
       "      <td>North Carolina</td>\n",
       "      <td>desktop-macOS</td>\n",
       "      <td>Safari</td>\n",
       "    </tr>\n",
       "    <tr>\n",
       "      <th>2</th>\n",
       "      <td>239007</td>\n",
       "      <td>null</td>\n",
       "      <td>2.165911e+07</td>\n",
       "      <td>/doc/Year_End_Tax_Tables.pdf</td>\n",
       "      <td>North Carolina</td>\n",
       "      <td>desktop-macOS</td>\n",
       "      <td>Safari</td>\n",
       "    </tr>\n",
       "    <tr>\n",
       "      <th>3</th>\n",
       "      <td>239007</td>\n",
       "      <td>null</td>\n",
       "      <td>2.155720e+07</td>\n",
       "      <td>/faq/life-events-required-minimum-distribution...</td>\n",
       "      <td>North Carolina</td>\n",
       "      <td>desktop-macOS</td>\n",
       "      <td>Safari</td>\n",
       "    </tr>\n",
       "    <tr>\n",
       "      <th>4</th>\n",
       "      <td>239007</td>\n",
       "      <td>null</td>\n",
       "      <td>2.156513e+07</td>\n",
       "      <td>/da/Corporate_Bond_Fund_Semiannual_Report.pdf</td>\n",
       "      <td>North Carolina</td>\n",
       "      <td>desktop-macOS</td>\n",
       "      <td>Safari</td>\n",
       "    </tr>\n",
       "  </tbody>\n",
       "</table>\n",
       "</div>"
      ],
      "text/plain": [
       "   visitor-ids user-ids     timestamp  \\\n",
       "0       239007     null  2.155359e+07   \n",
       "1       239007     null  2.156321e+07   \n",
       "2       239007     null  2.165911e+07   \n",
       "3       239007     null  2.155720e+07   \n",
       "4       239007     null  2.156513e+07   \n",
       "\n",
       "                                             webpage           state  \\\n",
       "0        /doc_viewer/ETF_Trust_Single_Factor_SAI.pdf  North Carolina   \n",
       "1  /da/Rochester_Limited_Term_California_Municipa...  North Carolina   \n",
       "2                       /doc/Year_End_Tax_Tables.pdf  North Carolina   \n",
       "3  /faq/life-events-required-minimum-distribution...  North Carolina   \n",
       "4      /da/Corporate_Bond_Fund_Semiannual_Report.pdf  North Carolina   \n",
       "\n",
       "         browser platform  \n",
       "0  desktop-macOS   Safari  \n",
       "1  desktop-macOS   Safari  \n",
       "2  desktop-macOS   Safari  \n",
       "3  desktop-macOS   Safari  \n",
       "4  desktop-macOS   Safari  "
      ]
     },
     "execution_count": 49,
     "metadata": {},
     "output_type": "execute_result"
    }
   ],
   "source": [
    "df.head()"
   ]
  },
  {
   "cell_type": "code",
   "execution_count": 8,
   "metadata": {},
   "outputs": [
    {
     "data": {
      "text/plain": [
       "3615091"
      ]
     },
     "execution_count": 8,
     "metadata": {},
     "output_type": "execute_result"
    }
   ],
   "source": [
    "len(df)"
   ]
  },
  {
   "cell_type": "code",
   "execution_count": 21,
   "metadata": {},
   "outputs": [
    {
     "data": {
      "text/plain": [
       "<matplotlib.axes._subplots.AxesSubplot at 0x7f1a11d72198>"
      ]
     },
     "execution_count": 21,
     "metadata": {},
     "output_type": "execute_result"
    },
    {
     "data": {
      "image/png": "[encoded data removed]",
      "text/plain": [
       "<matplotlib.figure.Figure at 0x7f1a11da6390>"
      ]
     },
     "metadata": {},
     "output_type": "display_data"
    }
   ],
   "source": [
    "df['browser'].value_counts().plot(kind='barh')"
   ]
  },
  {
   "cell_type": "code",
   "execution_count": 22,
   "metadata": {},
   "outputs": [
    {
     "data": {
      "text/plain": [
       "<matplotlib.axes._subplots.AxesSubplot at 0x7f1a11c66898>"
      ]
     },
     "execution_count": 22,
     "metadata": {},
     "output_type": "execute_result"
    },
    {
     "data": {
      "image/png": "[encoded data removed]",
      "text/plain": [
       "<matplotlib.figure.Figure at 0x7f1a11d726a0>"
      ]
     },
     "metadata": {},
     "output_type": "display_data"
    }
   ],
   "source": [
    "df['platform'].value_counts().plot(kind='barh')"
   ]
  },
  {
   "cell_type": "code",
   "execution_count": 54,
   "metadata": {},
   "outputs": [
    {
     "name": "stdout",
     "output_type": "stream",
     "text": [
      "unique user-ids:  8598\n",
      "unique visitor-ids:  343942\n"
     ]
    }
   ],
   "source": [
    "print('unique user-ids: ',len(df['user-ids'].unique()))\n",
    "print('unique visitor-ids: ',len(df['visitor-ids'].unique()))"
   ]
  },
  {
   "cell_type": "code",
   "execution_count": 29,
   "metadata": {},
   "outputs": [
    {
     "data": {
      "text/plain": [
       "[('null', 3427387),\n",
       " (74309973, 152),\n",
       " (18135311, 131),\n",
       " (40945576, 128),\n",
       " (66759484, 117)]"
      ]
     },
     "execution_count": 29,
     "metadata": {},
     "output_type": "execute_result"
    }
   ],
   "source": [
    "x = Counter(df['user-ids'])\n",
    "x.most_common(5)"
   ]
  },
  {
   "cell_type": "code",
   "execution_count": 122,
   "metadata": {},
   "outputs": [
    {
     "data": {
      "text/plain": [
       "343942"
      ]
     },
     "execution_count": 122,
     "metadata": {},
     "output_type": "execute_result"
    }
   ],
   "source": [
    "for k,v in dict(z).items():\n",
    "    print(k,v)"
   ]
  },
  {
   "cell_type": "code",
   "execution_count": 105,
   "metadata": {},
   "outputs": [
    {
     "data": {
      "text/plain": [
       "[(529946, 122), (571606, 121), (274607, 105), (358470, 102), (501660, 100)]"
      ]
     },
     "execution_count": 105,
     "metadata": {},
     "output_type": "execute_result"
    }
   ],
   "source": [
    "z = Counter(df['visitor-ids'])\n",
    "z.most_common(5)"
   ]
  },
  {
   "cell_type": "code",
   "execution_count": 44,
   "metadata": {},
   "outputs": [
    {
     "data": {
      "text/plain": [
       "[('/da/Alan_Panzer_Biography.pdf', 41255),\n",
       " ('/da/Broker_Dealer_Channel_ETF_Specialist_Territory_Map.pdf', 19802),\n",
       " ('/da/International_Equity_Fund_Announcement.pdf', 915),\n",
       " ('/da/The_Education_Plan_Account_Maintenance_Form.pdf', 914),\n",
       " ('/consultant/jeff-botwinick', 912),\n",
       " ('/investment-strategies/global-select-equity', 912),\n",
       " ('/profile/password', 909),\n",
       " ('/personalities/rick-henn', 904),\n",
       " ('/da/ESG_in_Focus_Why_Is_ESG_Investing_in_Demand.pdf', 902),\n",
       " ('/doc/SandP_Ultra_Dividend_Revenue_ETF_Product_Brief.pdf', 901),\n",
       " ('/da/CEO_Client_Engagement_Toolkit.pdf', 900),\n",
       " ('/models', 898),\n",
       " ('/doc/Large_Cap_Dynamic_Multifactor_IPA_Institutional_Fact_Sheet.pdf', 898),\n",
       " ('/literature-center/order/verify', 895),\n",
       " ('/article/saving-will-hurt-financial-aid-chances', 895)]"
      ]
     },
     "execution_count": 44,
     "metadata": {},
     "output_type": "execute_result"
    }
   ],
   "source": [
    "web_count = Counter(df['webpage'])\n",
    "web_count.most_common()[:15]"
   ]
  },
  {
   "cell_type": "code",
   "execution_count": 304,
   "metadata": {},
   "outputs": [
    {
     "name": "stdout",
     "output_type": "stream",
     "text": [
      "/da/Alan_Panzer_Biography.pdf /da/Broker_Dealer_Channel_ETF_Specialist_Territory_Map.pdf\n"
     ]
    }
   ],
   "source": [
    "print(df['webpage'][3838],df['webpage'][1497])"
   ]
  },
  {
   "cell_type": "code",
   "execution_count": 123,
   "metadata": {},
   "outputs": [],
   "source": [
    "req_vis_nums = []\n",
    "uniq_vis = df['visitor-ids'].unique()\n",
    "for i in range(len(uniq_vis)): \n",
    "    if len(df.loc[df['visitor-ids'] == uniq_vis[i]]['user-ids'].unique())>1:\n",
    "        req_vis_nums.append(uniq_vis[i])"
   ]
  },
  {
   "cell_type": "code",
   "execution_count": 129,
   "metadata": {},
   "outputs": [
    {
     "data": {
      "text/plain": [
       "array(['null', 62834466], dtype=object)"
      ]
     },
     "execution_count": 129,
     "metadata": {},
     "output_type": "execute_result"
    }
   ],
   "source": [
    "df.loc[df['visitor-ids'] == req_vis_nums[0]]['user-ids'].unique()"
   ]
  },
  {
   "cell_type": "code",
   "execution_count": 130,
   "metadata": {},
   "outputs": [],
   "source": [
    "sub_df = df[df['visitor-ids'].isin(req_vis_nums)]"
   ]
  },
  {
   "cell_type": "code",
   "execution_count": 132,
   "metadata": {},
   "outputs": [
    {
     "data": {
      "text/html": [
       "<div>\n",
       "<style scoped>\n",
       "    .dataframe tbody tr th:only-of-type {\n",
       "        vertical-align: middle;\n",
       "    }\n",
       "\n",
       "    .dataframe tbody tr th {\n",
       "        vertical-align: top;\n",
       "    }\n",
       "\n",
       "    .dataframe thead th {\n",
       "        text-align: right;\n",
       "    }\n",
       "</style>\n",
       "<table border=\"1\" class=\"dataframe\">\n",
       "  <thead>\n",
       "    <tr style=\"text-align: right;\">\n",
       "      <th></th>\n",
       "      <th>visitor-ids</th>\n",
       "      <th>user-ids</th>\n",
       "      <th>timestamp</th>\n",
       "      <th>webpage</th>\n",
       "      <th>state</th>\n",
       "      <th>browser</th>\n",
       "      <th>platform</th>\n",
       "    </tr>\n",
       "  </thead>\n",
       "  <tbody>\n",
       "    <tr>\n",
       "      <th>283</th>\n",
       "      <td>239026</td>\n",
       "      <td>null</td>\n",
       "      <td>2.628477e+07</td>\n",
       "      <td>/doc/Main_Street_Small_Cap_Fund_VA_Summary_Pro...</td>\n",
       "      <td>Delaware</td>\n",
       "      <td>mobile-android</td>\n",
       "      <td>Firefox</td>\n",
       "    </tr>\n",
       "    <tr>\n",
       "      <th>284</th>\n",
       "      <td>239026</td>\n",
       "      <td>62834466</td>\n",
       "      <td>2.673618e+07</td>\n",
       "      <td>/article/consider-small-caps-as-a-core-portfol...</td>\n",
       "      <td>Delaware</td>\n",
       "      <td>mobile-android</td>\n",
       "      <td>Firefox</td>\n",
       "    </tr>\n",
       "    <tr>\n",
       "      <th>285</th>\n",
       "      <td>239026</td>\n",
       "      <td>62834466</td>\n",
       "      <td>2.627291e+07</td>\n",
       "      <td>/da/OFI_Pictet_Global_Environmental_Solutions_...</td>\n",
       "      <td>Delaware</td>\n",
       "      <td>mobile-android</td>\n",
       "      <td>Firefox</td>\n",
       "    </tr>\n",
       "    <tr>\n",
       "      <th>286</th>\n",
       "      <td>239026</td>\n",
       "      <td>62834466</td>\n",
       "      <td>2.628017e+07</td>\n",
       "      <td>/doc/Municipal_Fund_Summary_Prospectus.pdf</td>\n",
       "      <td>Delaware</td>\n",
       "      <td>mobile-android</td>\n",
       "      <td>Firefox</td>\n",
       "    </tr>\n",
       "    <tr>\n",
       "      <th>287</th>\n",
       "      <td>239026</td>\n",
       "      <td>62834466</td>\n",
       "      <td>2.627181e+07</td>\n",
       "      <td>/doc/Emerging_Markets_Ultra_Dividend_Revenue_E...</td>\n",
       "      <td>Delaware</td>\n",
       "      <td>mobile-android</td>\n",
       "      <td>Firefox</td>\n",
       "    </tr>\n",
       "  </tbody>\n",
       "</table>\n",
       "</div>"
      ],
      "text/plain": [
       "     visitor-ids  user-ids     timestamp  \\\n",
       "283       239026      null  2.628477e+07   \n",
       "284       239026  62834466  2.673618e+07   \n",
       "285       239026  62834466  2.627291e+07   \n",
       "286       239026  62834466  2.628017e+07   \n",
       "287       239026  62834466  2.627181e+07   \n",
       "\n",
       "                                               webpage     state  \\\n",
       "283  /doc/Main_Street_Small_Cap_Fund_VA_Summary_Pro...  Delaware   \n",
       "284  /article/consider-small-caps-as-a-core-portfol...  Delaware   \n",
       "285  /da/OFI_Pictet_Global_Environmental_Solutions_...  Delaware   \n",
       "286         /doc/Municipal_Fund_Summary_Prospectus.pdf  Delaware   \n",
       "287  /doc/Emerging_Markets_Ultra_Dividend_Revenue_E...  Delaware   \n",
       "\n",
       "            browser platform  \n",
       "283  mobile-android  Firefox  \n",
       "284  mobile-android  Firefox  \n",
       "285  mobile-android  Firefox  \n",
       "286  mobile-android  Firefox  \n",
       "287  mobile-android  Firefox  "
      ]
     },
     "execution_count": 132,
     "metadata": {},
     "output_type": "execute_result"
    }
   ],
   "source": [
    "sub_df.head()"
   ]
  },
  {
   "cell_type": "code",
   "execution_count": 141,
   "metadata": {},
   "outputs": [],
   "source": [
    "sub_df.to_csv('registered.csv',encoding='utf-8')"
   ]
  },
  {
   "cell_type": "code",
   "execution_count": 46,
   "metadata": {},
   "outputs": [
    {
     "name": "stderr",
     "output_type": "stream",
     "text": [
      "/home/pranavpks/anaconda2/envs/py36/lib/python3.5/site-packages/IPython/core/interactiveshell.py:2728: DtypeWarning: Columns (4) have mixed types. Specify dtype option on import or set low_memory=False.\n",
      "  interactivity=interactivity, compiler=compiler, result=result)\n"
     ]
    }
   ],
   "source": [
    "sub_df = pd.read_csv('registered.csv', encoding='utf-8')"
   ]
  },
  {
   "cell_type": "code",
   "execution_count": 47,
   "metadata": {},
   "outputs": [
    {
     "data": {
      "text/plain": [
       "[(1497, 14261),\n",
       " ('1497', 3541),\n",
       " (3838, 2888),\n",
       " ('3838', 706),\n",
       " (2477, 88),\n",
       " (1955, 87),\n",
       " (2905, 83),\n",
       " (195, 82),\n",
       " (2197, 82),\n",
       " (3473, 81),\n",
       " (78, 80),\n",
       " (3260, 80),\n",
       " (3207, 80),\n",
       " (3779, 79),\n",
       " (4347, 79)]"
      ]
     },
     "execution_count": 47,
     "metadata": {},
     "output_type": "execute_result"
    }
   ],
   "source": [
    "sub_web_count = Counter(sub_df['webpage'])\n",
    "sub_web_count.most_common()[:15]"
   ]
  },
  {
   "cell_type": "code",
   "execution_count": 160,
   "metadata": {},
   "outputs": [
    {
     "data": {
      "text/plain": [
       "<matplotlib.axes._subplots.AxesSubplot at 0x7f1a103f0da0>"
      ]
     },
     "execution_count": 160,
     "metadata": {},
     "output_type": "execute_result"
    },
    {
     "data": {
      "image/png": "[encoded data removed]",
      "text/plain": [
       "<matplotlib.figure.Figure at 0x7f1a19b2f6a0>"
      ]
     },
     "metadata": {},
     "output_type": "display_data"
    }
   ],
   "source": [
    "df.groupby(['browser', 'platform']).size().unstack().plot(kind='bar', stacked=True)"
   ]
  },
  {
   "cell_type": "code",
   "execution_count": 280,
   "metadata": {},
   "outputs": [
    {
     "data": {
      "text/plain": [
       "<matplotlib.axes._subplots.AxesSubplot at 0x7f1a32000c50>"
      ]
     },
     "execution_count": 280,
     "metadata": {},
     "output_type": "execute_result"
    },
    {
     "data": {
      "image/png": "[encoded data removed]",
      "text/plain": [
       "<matplotlib.figure.Figure at 0x7f1a0ff89160>"
      ]
     },
     "metadata": {},
     "output_type": "display_data"
    }
   ],
   "source": [
    "sub_df.groupby(['browser', 'platform']).size().unstack().plot(kind='bar', stacked=True)"
   ]
  },
  {
   "cell_type": "code",
   "execution_count": 63,
   "metadata": {},
   "outputs": [
    {
     "data": {
      "text/plain": [
       "[(3838, 41254), (1497, 19801), (460, 914), (4320, 913), (642, 911)]"
      ]
     },
     "execution_count": 63,
     "metadata": {},
     "output_type": "execute_result"
    }
   ],
   "source": [
    "wb = Counter(df['webpage'])\n",
    "wb.most_common(5)"
   ]
  },
  {
   "cell_type": "code",
   "execution_count": 48,
   "metadata": {},
   "outputs": [
    {
     "data": {
      "text/plain": [
       "[('California', 232644),\n",
       " ('Arizona', 207889),\n",
       " ('Illinois', 206695),\n",
       " ('Colorado', 189495),\n",
       " ('New York', 146983),\n",
       " ('North Carolina', 128686),\n",
       " ('Delaware', 116517),\n",
       " ('New Mexico', 106245),\n",
       " ('Georgia', 105253),\n",
       " ('Indiana', 104843),\n",
       " ('Idaho', 100105),\n",
       " ('Virginia', 97885),\n",
       " ('Utah', 94875),\n",
       " ('Rhode Island', 92835),\n",
       " ('Tennessee', 92373),\n",
       " ('Kentucky', 91530),\n",
       " ('New Hampshire', 91090),\n",
       " ('Vermont', 89070),\n",
       " ('South Carolina', 86090),\n",
       " ('Alabama', 82370),\n",
       " ('Oklahoma', 81797),\n",
       " ('South Dakota', 80696),\n",
       " ('Oregon', 79309),\n",
       " ('Michigan', 77119),\n",
       " ('Massachusetts', 70424),\n",
       " ('Hawaii', 69526),\n",
       " ('Ohio', 60827),\n",
       " ('Florida', 58302),\n",
       " ('Nevada', 54374),\n",
       " ('Iowa', 53784),\n",
       " ('Pennsylvania', 50523),\n",
       " ('Washington', 47072),\n",
       " ('Arkansas', 43098),\n",
       " ('Alaska', 36798),\n",
       " ('Louisiana', 35725),\n",
       " ('Montana', 35195),\n",
       " ('Minnesota', 26618),\n",
       " ('Wisconsin', 26229),\n",
       " ('North Dakota', 26201),\n",
       " ('Missouri', 24653),\n",
       " ('Maryland', 20861),\n",
       " ('Maine', 20388),\n",
       " ('New Jersey', 19609),\n",
       " ('Mississippi', 15033),\n",
       " ('Texas', 11609),\n",
       " ('Connecticut', 11363),\n",
       " ('West Virginia', 6845),\n",
       " ('Nebraska', 5894),\n",
       " ('Kansas', 1746)]"
      ]
     },
     "execution_count": 48,
     "metadata": {},
     "output_type": "execute_result"
    }
   ],
   "source": [
    "states = Counter(df['state'])\n",
    "states.most_common()"
   ]
  },
  {
   "cell_type": "code",
   "execution_count": 49,
   "metadata": {},
   "outputs": [
    {
     "name": "stdout",
     "output_type": "stream",
     "text": [
      "0\n",
      "1000000\n",
      "2000000\n",
      "3000000\n"
     ]
    }
   ],
   "source": [
    "path_str_counts={}\n",
    "for i in range(len(df)):\n",
    "    y = df['webpage'][i]\n",
    "    temp = y[1:y[1:].find('/')+1]\n",
    "    if temp == '':\n",
    "        temp = y[1:]\n",
    "    if temp in path_str_counts:\n",
    "        path_str_counts[temp] += 1\n",
    "    else:\n",
    "        path_str_counts[temp] = 1    \n",
    "    if i%1000000==0:\n",
    "        print(i)"
   ]
  },
  {
   "cell_type": "code",
   "execution_count": 372,
   "metadata": {},
   "outputs": [],
   "source": [
    "da_counts={}\n",
    "for i in range(len(df)):\n",
    "    z = df['webpage'][i]\n",
    "    if z[:4] == '/da/':\n",
    "        if z not in da_counts:\n",
    "            da_counts[z] = 1\n",
    "        else:\n",
    "            da_counts[z] += 1"
   ]
  },
  {
   "cell_type": "code",
   "execution_count": 376,
   "metadata": {},
   "outputs": [
    {
     "name": "stdout",
     "output_type": "stream",
     "text": [
      "1501\n"
     ]
    },
    {
     "data": {
      "text/plain": [
       "[('/da/Alan_Panzer_Biography.pdf', 41255),\n",
       " ('/da/Broker_Dealer_Channel_ETF_Specialist_Territory_Map.pdf', 19802),\n",
       " ('/da/International_Equity_Fund_Announcement.pdf', 915),\n",
       " ('/da/The_Education_Plan_Account_Maintenance_Form.pdf', 914),\n",
       " ('/da/ESG_in_Focus_Why_Is_ESG_Investing_in_Demand.pdf', 902)]"
      ]
     },
     "execution_count": 376,
     "metadata": {},
     "output_type": "execute_result"
    }
   ],
   "source": [
    "print(len(da_counts))\n",
    "Counter(da_counts).most_common(5)"
   ]
  },
  {
   "cell_type": "code",
   "execution_count": 173,
   "metadata": {},
   "outputs": [
    {
     "data": {
      "text/plain": [
       "4371"
      ]
     },
     "execution_count": 173,
     "metadata": {},
     "output_type": "execute_result"
    }
   ],
   "source": [
    "len(df[df['webpage'].str.isdigit().notnull()])"
   ]
  },
  {
   "cell_type": "code",
   "execution_count": 103,
   "metadata": {},
   "outputs": [
    {
     "name": "stdout",
     "output_type": "stream",
     "text": [
      "4371 85 8742\n"
     ]
    }
   ],
   "source": [
    "print(len(path_nums_counts),len(path_str_counts),len(wb))"
   ]
  },
  {
   "cell_type": "code",
   "execution_count": 166,
   "metadata": {},
   "outputs": [
    {
     "data": {
      "text/plain": [
       "dict_keys([0, 1, 2, 3, 4, 5, 6, 7, 8, 9, 10, 11, 12, 13, 14, 15, 16, 17, 18, 19, 20, 21, 22, 23, 24, 25, 26, 27, 28, 29, 30, 31, 32, 33, 34, 35, 36, 37, 38, 39, 40, 41, 42, 43, 44, 45, 46, 47, 48, 49, 50, 51, 52, 53, 54, 55, 56, 57, 58, 59, 60, 61, 62, 63, 64, 65, 66, 67, 68, 69, 70, 71, 72, 73, 74, 75, 76, 77, 78, 79, 80, 81, 82, 83, 84, 85, 86, 87, 88, 89, 90, 91, 92, 93, 94, 95, 96, 97, 98, 99, 100, 101, 102, 103, 104, 105, 106, 107, 108, 109, 110, 111, 112, 113, 114, 115, 116, 117, 118, 119, 120, 121, 122, 123, 124, 125, 126, 127, 128, 129, 130, 131, 132, 133, 134, 135, 136, 137, 138, 139, 140, 141, 142, 143, 144, 145, 146, 147, 148, 149, 150, 151, 152, 153, 154, 155, 156, 157, 158, 159, 160, 161, 162, 163, 164, 165, 166, 167, 168, 169, 170, 171, 172, 173, 174, 175, 176, 177, 178, 179, 180, 181, 182, 183, 184, 185, 186, 187, 188, 189, 190, 191, 192, 193, 194, 195, 196, 197, 198, 199, 200, 201, 202, 203, 204, 205, 206, 207, 208, 209, 210, 211, 212, 213, 214, 215, 216, 217, 218, 219, 220, 221, 222, 223, 224, 225, 226, 227, 228, 229, 230, 231, 232, 233, 234, 235, 236, 237, 238, 239, 240, 241, 242, 243, 244, 245, 246, 247, 248, 249, 250, 251, 252, 253, 254, 255, 256, 257, 258, 259, 260, 261, 262, 263, 264, 265, 266, 267, 268, 269, 270, 271, 272, 273, 274, 275, 276, 277, 278, 279, 280, 281, 282, 283, 284, 285, 286, 287, 288, 289, 290, 291, 292, 293, 294, 295, 296, 297, 298, 299, 300, 301, 302, 303, 304, 305, 306, 307, 308, 309, 310, 311, 312, 313, 314, 315, 316, 317, 318, 319, 320, 321, 322, 323, 324, 325, 326, 327, 328, 329, 330, 331, 332, 333, 334, 335, 336, 337, 338, 339, 340, 341, 342, 343, 344, 345, 346, 347, 348, 349, 350, 351, 352, 353, 354, 355, 356, 357, 358, 359, 360, 361, 362, 363, 364, 365, 366, 367, 368, 369, 370, 371, 372, 373, 374, 375, 376, 377, 378, 379, 380, 381, 382, 383, 384, 385, 386, 387, 388, 389, 390, 391, 392, 393, 394, 395, 396, 397, 398, 399, 400, 401, 402, 403, 404, 405, 406, 407, 408, 409, 410, 411, 412, 413, 414, 415, 416, 417, 418, 419, 420, 421, 422, 423, 424, 425, 426, 427, 428, 429, 430, 431, 432, 433, 434, 435, 436, 437, 438, 439, 440, 441, 442, 443, 444, 445, 446, 447, 448, 449, 450, 451, 452, 453, 454, 455, 456, 457, 458, 459, 460, 461, 462, 463, 464, 465, 466, 467, 468, 469, 470, 471, 472, 473, 474, 475, 476, 477, 478, 479, 480, 481, 482, 483, 484, 485, 486, 487, 488, 489, 490, 491, 492, 493, 494, 495, 496, 497, 498, 499, 500, 501, 502, 503, 504, 505, 506, 507, 508, 509, 510, 511, 512, 513, 514, 515, 516, 517, 518, 519, 520, 521, 522, 523, 524, 525, 526, 527, 528, 529, 530, 531, 532, 533, 534, 535, 536, 537, 538, 539, 540, 541, 542, 543, 544, 545, 546, 547, 548, 549, 550, 551, 552, 553, 554, 555, 556, 557, 558, 559, 560, 561, 562, 563, 564, 565, 566, 567, 568, 569, 570, 571, 572, 573, 574, 575, 576, 577, 578, 579, 580, 581, 582, 583, 584, 585, 586, 587, 588, 589, 590, 591, 592, 593, 594, 595, 596, 597, 598, 599, 600, 601, 602, 603, 604, 605, 606, 607, 608, 609, 610, 611, 612, 613, 614, 615, 616, 617, 618, 619, 620, 621, 622, 623, 624, 625, 626, 627, 628, 629, 630, 631, 632, 633, 634, 635, 636, 637, 638, 639, 640, 641, 642, 643, 644, 645, 646, 647, 648, 649, 650, 651, 652, 653, 654, 655, 656, 657, 658, 659, 660, 661, 662, 663, 664, 665, 666, 667, 668, 669, 670, 671, 672, 673, 674, 675, 676, 677, 678, 679, 680, 681, 682, 683, 684, 685, 686, 687, 688, 689, 690, 691, 692, 693, 694, 695, 696, 697, 698, 699, 700, 701, 702, 703, 704, 705, 706, 707, 708, 709, 710, 711, 712, 713, 714, 715, 716, 717, 718, 719, 720, 721, 722, 723, 724, 725, 726, 727, 728, 729, 730, 731, 732, 733, 734, 735, 736, 737, 738, 739, 740, 741, 742, 743, 744, 745, 746, 747, 748, 749, 750, 751, 752, 753, 754, 755, 756, 757, 758, 759, 760, 761, 762, 763, 764, 765, 766, 767, 768, 769, 770, 771, 772, 773, 774, 775, 776, 777, 778, 779, 780, 781, 782, 783, 784, 785, 786, 787, 788, 789, 790, 791, 792, 793, 794, 795, 796, 797, 798, 799, 800, 801, 802, 803, 804, 805, 806, 807, 808, 809, 810, 811, 812, 813, 814, 815, 816, 817, 818, 819, 820, 821, 822, 823, 824, 825, 826, 827, 828, 829, 830, 831, 832, 833, 834, 835, 836, 837, 838, 839, 840, 841, 842, 843, 844, 845, 846, 847, 848, 849, 850, 851, 852, 853, 854, 855, 856, 857, 858, 859, 860, 861, 862, 863, 864, 865, 866, 867, 868, 869, 870, 871, 872, 873, 874, 875, 876, 877, 878, 879, 880, 881, 882, 883, 884, 885, 886, 887, 888, 889, 890, 891, 892, 893, 894, 895, 896, 897, 898, 899, 900, 901, 902, 903, 904, 905, 906, 907, 908, 909, 910, 911, 912, 913, 914, 915, 916, 917, 918, 919, 920, 921, 922, 923, 924, 925, 926, 927, 928, 929, 930, 931, 932, 933, 934, 935, 936, 937, 938, 939, 940, 941, 942, 943, 944, 945, 946, 947, 948, 949, 950, 951, 952, 953, 954, 955, 956, 957, 958, 959, 960, 961, 962, 963, 964, 965, 966, 967, 968, 969, 970, 971, 972, 973, 974, 975, 976, 977, 978, 979, 980, 981, 982, 983, 984, 985, 986, 987, 988, 989, 990, 991, 992, 993, 994, 995, 996, 997, 998, 999, 1000, 1001, 1002, 1003, 1004, 1005, 1006, 1007, 1008, 1009, 1010, 1011, 1012, 1013, 1014, 1015, 1016, 1017, 1018, 1019, 1020, 1021, 1022, 1023, 1024, 1025, 1026, 1027, 1028, 1029, 1030, 1031, 1032, 1033, 1034, 1035, 1036, 1037, 1038, 1039, 1040, 1041, 1042, 1043, 1044, 1045, 1046, 1047, 1048, 1049, 1050, 1051, 1052, 1053, 1054, 1055, 1056, 1057, 1058, 1059, 1060, 1061, 1062, 1063, 1064, 1065, 1066, 1067, 1068, 1069, 1070, 1071, 1072, 1073, 1074, 1075, 1076, 1077, 1078, 1079, 1080, 1081, 1082, 1083, 1084, 1085, 1086, 1087, 1088, 1089, 1090, 1091, 1092, 1093, 1094, 1095, 1096, 1097, 1098, 1099, 1100, 1101, 1102, 1103, 1104, 1105, 1106, 1107, 1108, 1109, 1110, 1111, 1112, 1113, 1114, 1115, 1116, 1117, 1118, 1119, 1120, 1121, 1122, 1123, 1124, 1125, 1126, 1127, 1128, 1129, 1130, 1131, 1132, 1133, 1134, 1135, 1136, 1137, 1138, 1139, 1140, 1141, 1142, 1143, 1144, 1145, 1146, 1147, 1148, 1149, 1150, 1151, 1152, 1153, 1154, 1155, 1156, 1157, 1158, 1159, 1160, 1161, 1162, 1163, 1164, 1165, 1166, 1167, 1168, 1169, 1170, 1171, 1172, 1173, 1174, 1175, 1176, 1177, 1178, 1179, 1180, 1181, 1182, 1183, 1184, 1185, 1186, 1187, 1188, 1189, 1190, 1191, 1192, 1193, 1194, 1195, 1196, 1197, 1198, 1199, 1200, 1201, 1202, 1203, 1204, 1205, 1206, 1207, 1208, 1209, 1210, 1211, 1212, 1213, 1214, 1215, 1216, 1217, 1218, 1219, 1220, 1221, 1222, 1223, 1224, 1225, 1226, 1227, 1228, 1229, 1230, 1231, 1232, 1233, 1234, 1235, 1236, 1237, 1238, 1239, 1240, 1241, 1242, 1243, 1244, 1245, 1246, 1247, 1248, 1249, 1250, 1251, 1252, 1253, 1254, 1255, 1256, 1257, 1258, 1259, 1260, 1261, 1262, 1263, 1264, 1265, 1266, 1267, 1268, 1269, 1270, 1271, 1272, 1273, 1274, 1275, 1276, 1277, 1278, 1279, 1280, 1281, 1282, 1283, 1284, 1285, 1286, 1287, 1288, 1289, 1290, 1291, 1292, 1293, 1294, 1295, 1296, 1297, 1298, 1299, 1300, 1301, 1302, 1303, 1304, 1305, 1306, 1307, 1308, 1309, 1310, 1311, 1312, 1313, 1314, 1315, 1316, 1317, 1318, 1319, 1320, 1321, 1322, 1323, 1324, 1325, 1326, 1327, 1328, 1329, 1330, 1331, 1332, 1333, 1334, 1335, 1336, 1337, 1338, 1339, 1340, 1341, 1342, 1343, 1344, 1345, 1346, 1347, 1348, 1349, 1350, 1351, 1352, 1353, 1354, 1355, 1356, 1357, 1358, 1359, 1360, 1361, 1362, 1363, 1364, 1365, 1366, 1367, 1368, 1369, 1370, 1371, 1372, 1373, 1374, 1375, 1376, 1377, 1378, 1379, 1380, 1381, 1382, 1383, 1384, 1385, 1386, 1387, 1388, 1389, 1390, 1391, 1392, 1393, 1394, 1395, 1396, 1397, 1398, 1399, 1400, 1401, 1402, 1403, 1404, 1405, 1406, 1407, 1408, 1409, 1410, 1411, 1412, 1413, 1414, 1415, 1416, 1417, 1418, 1419, 1420, 1421, 1422, 1423, 1424, 1425, 1426, 1427, 1428, 1429, 1430, 1431, 1432, 1433, 1434, 1435, 1436, 1437, 1438, 1439, 1440, 1441, 1442, 1443, 1444, 1445, 1446, 1447, 1448, 1449, 1450, 1451, 1452, 1453, 1454, 1455, 1456, 1457, 1458, 1459, 1460, 1461, 1462, 1463, 1464, 1465, 1466, 1467, 1468, 1469, 1470, 1471, 1472, 1473, 1474, 1475, 1476, 1477, 1478, 1479, 1480, 1481, 1482, 1483, 1484, 1485, 1486, 1487, 1488, 1489, 1490, 1491, 1492, 1493, 1494, 1495, 1496, 1497, 1498, 1499, 1500, 1501, 1502, 1503, 1504, 1505, 1506, 1507, 1508, 1509, 1510, 1511, 1512, 1513, 1514, 1515, 1516, 1517, 1518, 1519, 1520, 1521, 1522, 1523, 1524, 1525, 1526, 1527, 1528, 1529, 1530, 1531, 1532, 1533, 1534, 1535, 1536, 1537, 1538, 1539, 1540, 1541, 1542, 1543, 1544, 1545, 1546, 1547, 1548, 1549, 1550, 1551, 1552, 1553, 1554, 1555, 1556, 1557, 1558, 1559, 1560, 1561, 1562, 1563, 1564, 1565, 1566, 1567, 1568, 1569, 1570, 1571, 1572, 1573, 1574, 1575, 1576, 1577, 1578, 1579, 1580, 1581, 1582, 1583, 1584, 1585, 1586, 1587, 1588, 1589, 1590, 1591, 1592, 1593, 1594, 1595, 1596, 1597, 1598, 1599, 1600, 1601, 1602, 1603, 1604, 1605, 1606, 1607, 1608, 1609, 1610, 1611, 1612, 1613, 1614, 1615, 1616, 1617, 1618, 1619, 1620, 1621, 1622, 1623, 1624, 1625, 1626, 1627, 1628, 1629, 1630, 1631, 1632, 1633, 1634, 1635, 1636, 1637, 1638, 1639, 1640, 1641, 1642, 1643, 1644, 1645, 1646, 1647, 1648, 1649, 1650, 1651, 1652, 1653, 1654, 1655, 1656, 1657, 1658, 1659, 1660, 1661, 1662, 1663, 1664, 1665, 1666, 1667, 1668, 1669, 1670, 1671, 1672, 1673, 1674, 1675, 1676, 1677, 1678, 1679, 1680, 1681, 1682, 1683, 1684, 1685, 1686, 1687, 1688, 1689, 1690, 1691, 1692, 1693, 1694, 1695, 1696, 1697, 1698, 1699, 1700, 1701, 1702, 1703, 1704, 1705, 1706, 1707, 1708, 1709, 1710, 1711, 1712, 1713, 1714, 1715, 1716, 1717, 1718, 1719, 1720, 1721, 1722, 1723, 1724, 1725, 1726, 1727, 1728, 1729, 1730, 1731, 1732, 1733, 1734, 1735, 1736, 1737, 1738, 1739, 1740, 1741, 1742, 1743, 1744, 1745, 1746, 1747, 1748, 1749, 1750, 1751, 1752, 1753, 1754, 1755, 1756, 1757, 1758, 1759, 1760, 1761, 1762, 1763, 1764, 1765, 1766, 1767, 1768, 1769, 1770, 1771, 1772, 1773, 1774, 1775, 1776, 1777, 1778, 1779, 1780, 1781, 1782, 1783, 1784, 1785, 1786, 1787, 1788, 1789, 1790, 1791, 1792, 1793, 1794, 1795, 1796, 1797, 1798, 1799, 1800, 1801, 1802, 1803, 1804, 1805, 1806, 1807, 1808, 1809, 1810, 1811, 1812, 1813, 1814, 1815, 1816, 1817, 1818, 1819, 1820, 1821, 1822, 1823, 1824, 1825, 1826, 1827, 1828, 1829, 1830, 1831, 1832, 1833, 1834, 1835, 1836, 1837, 1838, 1839, 1840, 1841, 1842, 1843, 1844, 1845, 1846, 1847, 1848, 1849, 1850, 1851, 1852, 1853, 1854, 1855, 1856, 1857, 1858, 1859, 1860, 1861, 1862, 1863, 1864, 1865, 1866, 1867, 1868, 1869, 1870, 1871, 1872, 1873, 1874, 1875, 1876, 1877, 1878, 1879, 1880, 1881, 1882, 1883, 1884, 1885, 1886, 1887, 1888, 1889, 1890, 1891, 1892, 1893, 1894, 1895, 1896, 1897, 1898, 1899, 1900, 1901, 1902, 1903, 1904, 1905, 1906, 1907, 1908, 1909, 1910, 1911, 1912, 1913, 1914, 1915, 1916, 1917, 1918, 1919, 1920, 1921, 1922, 1923, 1924, 1925, 1926, 1927, 1928, 1929, 1930, 1931, 1932, 1933, 1934, 1935, 1936, 1937, 1938, 1939, 1940, 1941, 1942, 1943, 1944, 1945, 1946, 1947, 1948, 1949, 1950, 1951, 1952, 1953, 1954, 1955, 1956, 1957, 1958, 1959, 1960, 1961, 1962, 1963, 1964, 1965, 1966, 1967, 1968, 1969, 1970, 1971, 1972, 1973, 1974, 1975, 1976, 1977, 1978, 1979, 1980, 1981, 1982, 1983, 1984, 1985, 1986, 1987, 1988, 1989, 1990, 1991, 1992, 1993, 1994, 1995, 1996, 1997, 1998, 1999, 2000, 2001, 2002, 2003, 2004, 2005, 2006, 2007, 2008, 2009, 2010, 2011, 2012, 2013, 2014, 2015, 2016, 2017, 2018, 2019, 2020, 2021, 2022, 2023, 2024, 2025, 2026, 2027, 2028, 2029, 2030, 2031, 2032, 2033, 2034, 2035, 2036, 2037, 2038, 2039, 2040, 2041, 2042, 2043, 2044, 2045, 2046, 2047, 2048, 2049, 2050, 2051, 2052, 2053, 2054, 2055, 2056, 2057, 2058, 2059, 2060, 2061, 2062, 2063, 2064, 2065, 2066, 2067, 2068, 2069, 2070, 2071, 2072, 2073, 2074, 2075, 2076, 2077, 2078, 2079, 2080, 2081, 2082, 2083, 2084, 2085, 2086, 2087, 2088, 2089, 2090, 2091, 2092, 2093, 2094, 2095, 2096, 2097, 2098, 2099, 2100, 2101, 2102, 2103, 2104, 2105, 2106, 2107, 2108, 2109, 2110, 2111, 2112, 2113, 2114, 2115, 2116, 2117, 2118, 2119, 2120, 2121, 2122, 2123, 2124, 2125, 2126, 2127, 2128, 2129, 2130, 2131, 2132, 2133, 2134, 2135, 2136, 2137, 2138, 2139, 2140, 2141, 2142, 2143, 2144, 2145, 2146, 2147, 2148, 2149, 2150, 2151, 2152, 2153, 2154, 2155, 2156, 2157, 2158, 2159, 2160, 2161, 2162, 2163, 2164, 2165, 2166, 2167, 2168, 2169, 2170, 2171, 2172, 2173, 2174, 2175, 2176, 2177, 2178, 2179, 2180, 2181, 2182, 2183, 2184, 2185, 2186, 2187, 2188, 2189, 2190, 2191, 2192, 2193, 2194, 2195, 2196, 2197, 2198, 2199, 2200, 2201, 2202, 2203, 2204, 2205, 2206, 2207, 2208, 2209, 2210, 2211, 2212, 2213, 2214, 2215, 2216, 2217, 2218, 2219, 2220, 2221, 2222, 2223, 2224, 2225, 2226, 2227, 2228, 2229, 2230, 2231, 2232, 2233, 2234, 2235, 2236, 2237, 2238, 2239, 2240, 2241, 2242, 2243, 2244, 2245, 2246, 2247, 2248, 2249, 2250, 2251, 2252, 2253, 2254, 2255, 2256, 2257, 2258, 2259, 2260, 2261, 2262, 2263, 2264, 2265, 2266, 2267, 2268, 2269, 2270, 2271, 2272, 2273, 2274, 2275, 2276, 2277, 2278, 2279, 2280, 2281, 2282, 2283, 2284, 2285, 2286, 2287, 2288, 2289, 2290, 2291, 2292, 2293, 2294, 2295, 2296, 2297, 2298, 2299, 2300, 2301, 2302, 2303, 2304, 2305, 2306, 2307, 2308, 2309, 2310, 2311, 2312, 2313, 2314, 2315, 2316, 2317, 2318, 2319, 2320, 2321, 2322, 2323, 2324, 2325, 2326, 2327, 2328, 2329, 2330, 2331, 2332, 2333, 2334, 2335, 2336, 2337, 2338, 2339, 2340, 2341, 2342, 2343, 2344, 2345, 2346, 2347, 2348, 2349, 2350, 2351, 2352, 2353, 2354, 2355, 2356, 2357, 2358, 2359, 2360, 2361, 2362, 2363, 2364, 2365, 2366, 2367, 2368, 2369, 2370, 2371, 2372, 2373, 2374, 2375, 2376, 2377, 2378, 2379, 2380, 2381, 2382, 2383, 2384, 2385, 2386, 2387, 2388, 2389, 2390, 2391, 2392, 2393, 2394, 2395, 2396, 2397, 2398, 2399, 2400, 2401, 2402, 2403, 2404, 2405, 2406, 2407, 2408, 2409, 2410, 2411, 2412, 2413, 2414, 2415, 2416, 2417, 2418, 2419, 2420, 2421, 2422, 2423, 2424, 2425, 2426, 2427, 2428, 2429, 2430, 2431, 2432, 2433, 2434, 2435, 2436, 2437, 2438, 2439, 2440, 2441, 2442, 2443, 2444, 2445, 2446, 2447, 2448, 2449, 2450, 2451, 2452, 2453, 2454, 2455, 2456, 2457, 2458, 2459, 2460, 2461, 2462, 2463, 2464, 2465, 2466, 2467, 2468, 2469, 2470, 2471, 2472, 2473, 2474, 2475, 2476, 2477, 2478, 2479, 2480, 2481, 2482, 2483, 2484, 2485, 2486, 2487, 2488, 2489, 2490, 2491, 2492, 2493, 2494, 2495, 2496, 2497, 2498, 2499, 2500, 2501, 2502, 2503, 2504, 2505, 2506, 2507, 2508, 2509, 2510, 2511, 2512, 2513, 2514, 2515, 2516, 2517, 2518, 2519, 2520, 2521, 2522, 2523, 2524, 2525, 2526, 2527, 2528, 2529, 2530, 2531, 2532, 2533, 2534, 2535, 2536, 2537, 2538, 2539, 2540, 2541, 2542, 2543, 2544, 2545, 2546, 2547, 2548, 2549, 2550, 2551, 2552, 2553, 2554, 2555, 2556, 2557, 2558, 2559, 2560, 2561, 2562, 2563, 2564, 2565, 2566, 2567, 2568, 2569, 2570, 2571, 2572, 2573, 2574, 2575, 2576, 2577, 2578, 2579, 2580, 2581, 2582, 2583, 2584, 2585, 2586, 2587, 2588, 2589, 2590, 2591, 2592, 2593, 2594, 2595, 2596, 2597, 2598, 2599, 2600, 2601, 2602, 2603, 2604, 2605, 2606, 2607, 2608, 2609, 2610, 2611, 2612, 2613, 2614, 2615, 2616, 2617, 2618, 2619, 2620, 2621, 2622, 2623, 2624, 2625, 2626, 2627, 2628, 2629, 2630, 2631, 2632, 2633, 2634, 2635, 2636, 2637, 2638, 2639, 2640, 2641, 2642, 2643, 2644, 2645, 2646, 2647, 2648, 2649, 2650, 2651, 2652, 2653, 2654, 2655, 2656, 2657, 2658, 2659, 2660, 2661, 2662, 2663, 2664, 2665, 2666, 2667, 2668, 2669, 2670, 2671, 2672, 2673, 2674, 2675, 2676, 2677, 2678, 2679, 2680, 2681, 2682, 2683, 2684, 2685, 2686, 2687, 2688, 2689, 2690, 2691, 2692, 2693, 2694, 2695, 2696, 2697, 2698, 2699, 2700, 2701, 2702, 2703, 2704, 2705, 2706, 2707, 2708, 2709, 2710, 2711, 2712, 2713, 2714, 2715, 2716, 2717, 2718, 2719, 2720, 2721, 2722, 2723, 2724, 2725, 2726, 2727, 2728, 2729, 2730, 2731, 2732, 2733, 2734, 2735, 2736, 2737, 2738, 2739, 2740, 2741, 2742, 2743, 2744, 2745, 2746, 2747, 2748, 2749, 2750, 2751, 2752, 2753, 2754, 2755, 2756, 2757, 2758, 2759, 2760, 2761, 2762, 2763, 2764, 2765, 2766, 2767, 2768, 2769, 2770, 2771, 2772, 2773, 2774, 2775, 2776, 2777, 2778, 2779, 2780, 2781, 2782, 2783, 2784, 2785, 2786, 2787, 2788, 2789, 2790, 2791, 2792, 2793, 2794, 2795, 2796, 2797, 2798, 2799, 2800, 2801, 2802, 2803, 2804, 2805, 2806, 2807, 2808, 2809, 2810, 2811, 2812, 2813, 2814, 2815, 2816, 2817, 2818, 2819, 2820, 2821, 2822, 2823, 2824, 2825, 2826, 2827, 2828, 2829, 2830, 2831, 2832, 2833, 2834, 2835, 2836, 2837, 2838, 2839, 2840, 2841, 2842, 2843, 2844, 2845, 2846, 2847, 2848, 2849, 2850, 2851, 2852, 2853, 2854, 2855, 2856, 2857, 2858, 2859, 2860, 2861, 2862, 2863, 2864, 2865, 2866, 2867, 2868, 2869, 2870, 2871, 2872, 2873, 2874, 2875, 2876, 2877, 2878, 2879, 2880, 2881, 2882, 2883, 2884, 2885, 2886, 2887, 2888, 2889, 2890, 2891, 2892, 2893, 2894, 2895, 2896, 2897, 2898, 2899, 2900, 2901, 2902, 2903, 2904, 2905, 2906, 2907, 2908, 2909, 2910, 2911, 2912, 2913, 2914, 2915, 2916, 2917, 2918, 2919, 2920, 2921, 2922, 2923, 2924, 2925, 2926, 2927, 2928, 2929, 2930, 2931, 2932, 2933, 2934, 2935, 2936, 2937, 2938, 2939, 2940, 2941, 2942, 2943, 2944, 2945, 2946, 2947, 2948, 2949, 2950, 2951, 2952, 2953, 2954, 2955, 2956, 2957, 2958, 2959, 2960, 2961, 2962, 2963, 2964, 2965, 2966, 2967, 2968, 2969, 2970, 2971, 2972, 2973, 2974, 2975, 2976, 2977, 2978, 2979, 2980, 2981, 2982, 2983, 2984, 2985, 2986, 2987, 2988, 2989, 2990, 2991, 2992, 2993, 2994, 2995, 2996, 2997, 2998, 2999, 3000, 3001, 3002, 3003, 3004, 3005, 3006, 3007, 3008, 3009, 3010, 3011, 3012, 3013, 3014, 3015, 3016, 3017, 3018, 3019, 3020, 3021, 3022, 3023, 3024, 3025, 3026, 3027, 3028, 3029, 3030, 3031, 3032, 3033, 3034, 3035, 3036, 3037, 3038, 3039, 3040, 3041, 3042, 3043, 3044, 3045, 3046, 3047, 3048, 3049, 3050, 3051, 3052, 3053, 3054, 3055, 3056, 3057, 3058, 3059, 3060, 3061, 3062, 3063, 3064, 3065, 3066, 3067, 3068, 3069, 3070, 3071, 3072, 3073, 3074, 3075, 3076, 3077, 3078, 3079, 3080, 3081, 3082, 3083, 3084, 3085, 3086, 3087, 3088, 3089, 3090, 3091, 3092, 3093, 3094, 3095, 3096, 3097, 3098, 3099, 3100, 3101, 3102, 3103, 3104, 3105, 3106, 3107, 3108, 3109, 3110, 3111, 3112, 3113, 3114, 3115, 3116, 3117, 3118, 3119, 3120, 3121, 3122, 3123, 3124, 3125, 3126, 3127, 3128, 3129, 3130, 3131, 3132, 3133, 3134, 3135, 3136, 3137, 3138, 3139, 3140, 3141, 3142, 3143, 3144, 3145, 3146, 3147, 3148, 3149, 3150, 3151, 3152, 3153, 3154, 3155, 3156, 3157, 3158, 3159, 3160, 3161, 3162, 3163, 3164, 3165, 3166, 3167, 3168, 3169, 3170, 3171, 3172, 3173, 3174, 3175, 3176, 3177, 3178, 3179, 3180, 3181, 3182, 3183, 3184, 3185, 3186, 3187, 3188, 3189, 3190, 3191, 3192, 3193, 3194, 3195, 3196, 3197, 3198, 3199, 3200, 3201, 3202, 3203, 3204, 3205, 3206, 3207, 3208, 3209, 3210, 3211, 3212, 3213, 3214, 3215, 3216, 3217, 3218, 3219, 3220, 3221, 3222, 3223, 3224, 3225, 3226, 3227, 3228, 3229, 3230, 3231, 3232, 3233, 3234, 3235, 3236, 3237, 3238, 3239, 3240, 3241, 3242, 3243, 3244, 3245, 3246, 3247, 3248, 3249, 3250, 3251, 3252, 3253, 3254, 3255, 3256, 3257, 3258, 3259, 3260, 3261, 3262, 3263, 3264, 3265, 3266, 3267, 3268, 3269, 3270, 3271, 3272, 3273, 3274, 3275, 3276, 3277, 3278, 3279, 3280, 3281, 3282, 3283, 3284, 3285, 3286, 3287, 3288, 3289, 3290, 3291, 3292, 3293, 3294, 3295, 3296, 3297, 3298, 3299, 3300, 3301, 3302, 3303, 3304, 3305, 3306, 3307, 3308, 3309, 3310, 3311, 3312, 3313, 3314, 3315, 3316, 3317, 3318, 3319, 3320, 3321, 3322, 3323, 3324, 3325, 3326, 3327, 3328, 3329, 3330, 3331, 3332, 3333, 3334, 3335, 3336, 3337, 3338, 3339, 3340, 3341, 3342, 3343, 3344, 3345, 3346, 3347, 3348, 3349, 3350, 3351, 3352, 3353, 3354, 3355, 3356, 3357, 3358, 3359, 3360, 3361, 3362, 3363, 3364, 3365, 3366, 3367, 3368, 3369, 3370, 3371, 3372, 3373, 3374, 3375, 3376, 3377, 3378, 3379, 3380, 3381, 3382, 3383, 3384, 3385, 3386, 3387, 3388, 3389, 3390, 3391, 3392, 3393, 3394, 3395, 3396, 3397, 3398, 3399, 3400, 3401, 3402, 3403, 3404, 3405, 3406, 3407, 3408, 3409, 3410, 3411, 3412, 3413, 3414, 3415, 3416, 3417, 3418, 3419, 3420, 3421, 3422, 3423, 3424, 3425, 3426, 3427, 3428, 3429, 3430, 3431, 3432, 3433, 3434, 3435, 3436, 3437, 3438, 3439, 3440, 3441, 3442, 3443, 3444, 3445, 3446, 3447, 3448, 3449, 3450, 3451, 3452, 3453, 3454, 3455, 3456, 3457, 3458, 3459, 3460, 3461, 3462, 3463, 3464, 3465, 3466, 3467, 3468, 3469, 3470, 3471, 3472, 3473, 3474, 3475, 3476, 3477, 3478, 3479, 3480, 3481, 3482, 3483, 3484, 3485, 3486, 3487, 3488, 3489, 3490, 3491, 3492, 3493, 3494, 3495, 3496, 3497, 3498, 3499, 3500, 3501, 3502, 3503, 3504, 3505, 3506, 3507, 3508, 3509, 3510, 3511, 3512, 3513, 3514, 3515, 3516, 3517, 3518, 3519, 3520, 3521, 3522, 3523, 3524, 3525, 3526, 3527, 3528, 3529, 3530, 3531, 3532, 3533, 3534, 3535, 3536, 3537, 3538, 3539, 3540, 3541, 3542, 3543, 3544, 3545, 3546, 3547, 3548, 3549, 3550, 3551, 3552, 3553, 3554, 3555, 3556, 3557, 3558, 3559, 3560, 3561, 3562, 3563, 3564, 3565, 3566, 3567, 3568, 3569, 3570, 3571, 3572, 3573, 3574, 3575, 3576, 3577, 3578, 3579, 3580, 3581, 3582, 3583, 3584, 3585, 3586, 3587, 3588, 3589, 3590, 3591, 3592, 3593, 3594, 3595, 3596, 3597, 3598, 3599, 3600, 3601, 3602, 3603, 3604, 3605, 3606, 3607, 3608, 3609, 3610, 3611, 3612, 3613, 3614, 3615, 3616, 3617, 3618, 3619, 3620, 3621, 3622, 3623, 3624, 3625, 3626, 3627, 3628, 3629, 3630, 3631, 3632, 3633, 3634, 3635, 3636, 3637, 3638, 3639, 3640, 3641, 3642, 3643, 3644, 3645, 3646, 3647, 3648, 3649, 3650, 3651, 3652, 3653, 3654, 3655, 3656, 3657, 3658, 3659, 3660, 3661, 3662, 3663, 3664, 3665, 3666, 3667, 3668, 3669, 3670, 3671, 3672, 3673, 3674, 3675, 3676, 3677, 3678, 3679, 3680, 3681, 3682, 3683, 3684, 3685, 3686, 3687, 3688, 3689, 3690, 3691, 3692, 3693, 3694, 3695, 3696, 3697, 3698, 3699, 3700, 3701, 3702, 3703, 3704, 3705, 3706, 3707, 3708, 3709, 3710, 3711, 3712, 3713, 3714, 3715, 3716, 3717, 3718, 3719, 3720, 3721, 3722, 3723, 3724, 3725, 3726, 3727, 3728, 3729, 3730, 3731, 3732, 3733, 3734, 3735, 3736, 3737, 3738, 3739, 3740, 3741, 3742, 3743, 3744, 3745, 3746, 3747, 3748, 3749, 3750, 3751, 3752, 3753, 3754, 3755, 3756, 3757, 3758, 3759, 3760, 3761, 3762, 3763, 3764, 3765, 3766, 3767, 3768, 3769, 3770, 3771, 3772, 3773, 3774, 3775, 3776, 3777, 3778, 3779, 3780, 3781, 3782, 3783, 3784, 3785, 3786, 3787, 3788, 3789, 3790, 3791, 3792, 3793, 3794, 3795, 3796, 3797, 3798, 3799, 3800, 3801, 3802, 3803, 3804, 3805, 3806, 3807, 3808, 3809, 3810, 3811, 3812, 3813, 3814, 3815, 3816, 3817, 3818, 3819, 3820, 3821, 3822, 3823, 3824, 3825, 3826, 3827, 3828, 3829, 3830, 3831, 3832, 3833, 3834, 3835, 3836, 3837, 3838, 3839, 3840, 3841, 3842, 3843, 3844, 3845, 3846, 3847, 3848, 3849, 3850, 3851, 3852, 3853, 3854, 3855, 3856, 3857, 3858, 3859, 3860, 3861, 3862, 3863, 3864, 3865, 3866, 3867, 3868, 3869, 3870, 3871, 3872, 3873, 3874, 3875, 3876, 3877, 3878, 3879, 3880, 3881, 3882, 3883, 3884, 3885, 3886, 3887, 3888, 3889, 3890, 3891, 3892, 3893, 3894, 3895, 3896, 3897, 3898, 3899, 3900, 3901, 3902, 3903, 3904, 3905, 3906, 3907, 3908, 3909, 3910, 3911, 3912, 3913, 3914, 3915, 3916, 3917, 3918, 3919, 3920, 3921, 3922, 3923, 3924, 3925, 3926, 3927, 3928, 3929, 3930, 3931, 3932, 3933, 3934, 3935, 3936, 3937, 3938, 3939, 3940, 3941, 3942, 3943, 3944, 3945, 3946, 3947, 3948, 3949, 3950, 3951, 3952, 3953, 3954, 3955, 3956, 3957, 3958, 3959, 3960, 3961, 3962, 3963, 3964, 3965, 3966, 3967, 3968, 3969, 3970, 3971, 3972, 3973, 3974, 3975, 3976, 3977, 3978, 3979, 3980, 3981, 3982, 3983, 3984, 3985, 3986, 3987, 3988, 3989, 3990, 3991, 3992, 3993, 3994, 3995, 3996, 3997, 3998, 3999, 4000, 4001, 4002, 4003, 4004, 4005, 4006, 4007, 4008, 4009, 4010, 4011, 4012, 4013, 4014, 4015, 4016, 4017, 4018, 4019, 4020, 4021, 4022, 4023, 4024, 4025, 4026, 4027, 4028, 4029, 4030, 4031, 4032, 4033, 4034, 4035, 4036, 4037, 4038, 4039, 4040, 4041, 4042, 4043, 4044, 4045, 4046, 4047, 4048, 4049, 4050, 4051, 4052, 4053, 4054, 4055, 4056, 4057, 4058, 4059, 4060, 4061, 4062, 4063, 4064, 4065, 4066, 4067, 4068, 4069, 4070, 4071, 4072, 4073, 4074, 4075, 4076, 4077, 4078, 4079, 4080, 4081, 4082, 4083, 4084, 4085, 4086, 4087, 4088, 4089, 4090, 4091, 4092, 4093, 4094, 4095, 4096, 4097, 4098, 4099, 4100, 4101, 4102, 4103, 4104, 4105, 4106, 4107, 4108, 4109, 4110, 4111, 4112, 4113, 4114, 4115, 4116, 4117, 4118, 4119, 4120, 4121, 4122, 4123, 4124, 4125, 4126, 4127, 4128, 4129, 4130, 4131, 4132, 4133, 4134, 4135, 4136, 4137, 4138, 4139, 4140, 4141, 4142, 4143, 4144, 4145, 4146, 4147, 4148, 4149, 4150, 4151, 4152, 4153, 4154, 4155, 4156, 4157, 4158, 4159, 4160, 4161, 4162, 4163, 4164, 4165, 4166, 4167, 4168, 4169, 4170, 4171, 4172, 4173, 4174, 4175, 4176, 4177, 4178, 4179, 4180, 4181, 4182, 4183, 4184, 4185, 4186, 4187, 4188, 4189, 4190, 4191, 4192, 4193, 4194, 4195, 4196, 4197, 4198, 4199, 4200, 4201, 4202, 4203, 4204, 4205, 4206, 4207, 4208, 4209, 4210, 4211, 4212, 4213, 4214, 4215, 4216, 4217, 4218, 4219, 4220, 4221, 4222, 4223, 4224, 4225, 4226, 4227, 4228, 4229, 4230, 4231, 4232, 4233, 4234, 4235, 4236, 4237, 4238, 4239, 4240, 4241, 4242, 4243, 4244, 4245, 4246, 4247, 4248, 4249, 4250, 4251, 4252, 4253, 4254, 4255, 4256, 4257, 4258, 4259, 4260, 4261, 4262, 4263, 4264, 4265, 4266, 4267, 4268, 4269, 4270, 4271, 4272, 4273, 4274, 4275, 4276, 4277, 4278, 4279, 4280, 4281, 4282, 4283, 4284, 4285, 4286, 4287, 4288, 4289, 4290, 4291, 4292, 4293, 4294, 4295, 4296, 4297, 4298, 4299, 4300, 4301, 4302, 4303, 4304, 4305, 4306, 4307, 4308, 4309, 4310, 4311, 4312, 4313, 4314, 4315, 4316, 4317, 4318, 4319, 4320, 4321, 4322, 4323, 4324, 4325, 4326, 4327, 4328, 4329, 4330, 4331, 4332, 4333, 4334, 4335, 4336, 4337, 4338, 4339, 4340, 4341, 4342, 4343, 4344, 4345, 4346, 4347, 4348, 4349, 4350, 4351, 4352, 4353, 4354, 4355, 4356, 4357, 4358, 4359, 4360, 4361, 4362, 4363, 4364, 4365, 4366, 4367, 4368, 4369, 4370])"
      ]
     },
     "execution_count": 166,
     "metadata": {},
     "output_type": "execute_result"
    }
   ],
   "source": [
    "path_nums_counts.keys()"
   ]
  },
  {
   "cell_type": "code",
   "execution_count": 201,
   "metadata": {},
   "outputs": [],
   "source": [
    "for i in range(len(df)):\n",
    "    li.append(df['webpage'][i])"
   ]
  },
  {
   "cell_type": "code",
   "execution_count": 203,
   "metadata": {},
   "outputs": [
    {
     "name": "stdout",
     "output_type": "stream",
     "text": [
      "0\n",
      "1000000\n",
      "2000000\n",
      "3000000\n"
     ]
    }
   ],
   "source": [
    "for i in range(len(df)):\n",
    "    if str(li[i]).isdigit():\n",
    "        index = li[i]\n",
    "        li[i] = li[index]\n",
    "    if i%1000000 == 0:\n",
    "        print(i)"
   ]
  },
  {
   "cell_type": "code",
   "execution_count": 206,
   "metadata": {},
   "outputs": [],
   "source": [
    "li_df = pd.DataFrame(li, columns=['webpage'])\n",
    "df = df.drop(columns=['webpage'])\n",
    "df['webpage'] = li_df"
   ]
  },
  {
   "cell_type": "code",
   "execution_count": 212,
   "metadata": {},
   "outputs": [
    {
     "data": {
      "text/html": [
       "<div>\n",
       "<style scoped>\n",
       "    .dataframe tbody tr th:only-of-type {\n",
       "        vertical-align: middle;\n",
       "    }\n",
       "\n",
       "    .dataframe tbody tr th {\n",
       "        vertical-align: top;\n",
       "    }\n",
       "\n",
       "    .dataframe thead th {\n",
       "        text-align: right;\n",
       "    }\n",
       "</style>\n",
       "<table border=\"1\" class=\"dataframe\">\n",
       "  <thead>\n",
       "    <tr style=\"text-align: right;\">\n",
       "      <th></th>\n",
       "      <th>visitor-ids</th>\n",
       "      <th>user-ids</th>\n",
       "      <th>timestamp</th>\n",
       "      <th>state</th>\n",
       "      <th>browser</th>\n",
       "      <th>platform</th>\n",
       "      <th>webpage</th>\n",
       "    </tr>\n",
       "  </thead>\n",
       "  <tbody>\n",
       "    <tr>\n",
       "      <th>0</th>\n",
       "      <td>239007</td>\n",
       "      <td>null</td>\n",
       "      <td>2.155359e+07</td>\n",
       "      <td>North Carolina</td>\n",
       "      <td>desktop-macOS</td>\n",
       "      <td>Safari</td>\n",
       "      <td>/doc_viewer/ETF_Trust_Single_Factor_SAI.pdf</td>\n",
       "    </tr>\n",
       "    <tr>\n",
       "      <th>1</th>\n",
       "      <td>239007</td>\n",
       "      <td>null</td>\n",
       "      <td>2.156321e+07</td>\n",
       "      <td>North Carolina</td>\n",
       "      <td>desktop-macOS</td>\n",
       "      <td>Safari</td>\n",
       "      <td>/da/Rochester_Limited_Term_California_Municipa...</td>\n",
       "    </tr>\n",
       "    <tr>\n",
       "      <th>2</th>\n",
       "      <td>239007</td>\n",
       "      <td>null</td>\n",
       "      <td>2.165911e+07</td>\n",
       "      <td>North Carolina</td>\n",
       "      <td>desktop-macOS</td>\n",
       "      <td>Safari</td>\n",
       "      <td>/doc/Year_End_Tax_Tables.pdf</td>\n",
       "    </tr>\n",
       "    <tr>\n",
       "      <th>3</th>\n",
       "      <td>239007</td>\n",
       "      <td>null</td>\n",
       "      <td>2.155720e+07</td>\n",
       "      <td>North Carolina</td>\n",
       "      <td>desktop-macOS</td>\n",
       "      <td>Safari</td>\n",
       "      <td>/faq/life-events-required-minimum-distribution...</td>\n",
       "    </tr>\n",
       "    <tr>\n",
       "      <th>4</th>\n",
       "      <td>239007</td>\n",
       "      <td>null</td>\n",
       "      <td>2.156513e+07</td>\n",
       "      <td>North Carolina</td>\n",
       "      <td>desktop-macOS</td>\n",
       "      <td>Safari</td>\n",
       "      <td>/da/Corporate_Bond_Fund_Semiannual_Report.pdf</td>\n",
       "    </tr>\n",
       "  </tbody>\n",
       "</table>\n",
       "</div>"
      ],
      "text/plain": [
       "   visitor-ids user-ids     timestamp           state        browser platform  \\\n",
       "0       239007     null  2.155359e+07  North Carolina  desktop-macOS   Safari   \n",
       "1       239007     null  2.156321e+07  North Carolina  desktop-macOS   Safari   \n",
       "2       239007     null  2.165911e+07  North Carolina  desktop-macOS   Safari   \n",
       "3       239007     null  2.155720e+07  North Carolina  desktop-macOS   Safari   \n",
       "4       239007     null  2.156513e+07  North Carolina  desktop-macOS   Safari   \n",
       "\n",
       "                                             webpage  \n",
       "0        /doc_viewer/ETF_Trust_Single_Factor_SAI.pdf  \n",
       "1  /da/Rochester_Limited_Term_California_Municipa...  \n",
       "2                       /doc/Year_End_Tax_Tables.pdf  \n",
       "3  /faq/life-events-required-minimum-distribution...  \n",
       "4      /da/Corporate_Bond_Fund_Semiannual_Report.pdf  "
      ]
     },
     "execution_count": 212,
     "metadata": {},
     "output_type": "execute_result"
    }
   ],
   "source": [
    "df.head()"
   ]
  },
  {
   "cell_type": "code",
   "execution_count": 213,
   "metadata": {},
   "outputs": [],
   "source": [
    "df.to_csv('hackcu_data_webpage_corrected.csv', encoding='utf-8')"
   ]
  },
  {
   "cell_type": "code",
   "execution_count": 42,
   "metadata": {},
   "outputs": [],
   "source": [
    "df = pd.read_csv('hackcu_data_webpage_corrected.csv', encoding='utf-8')"
   ]
  },
  {
   "cell_type": "code",
   "execution_count": 246,
   "metadata": {},
   "outputs": [],
   "source": [
    "offset = 1546326000"
   ]
  },
  {
   "cell_type": "code",
   "execution_count": 281,
   "metadata": {},
   "outputs": [
    {
     "name": "stdout",
     "output_type": "stream",
     "text": [
      "239026 null 2019-01-01 07:18:04\n",
      "239026 62834466 2019-01-01 07:25:36\n",
      "239026 62834466 2019-01-01 07:17:52\n",
      "239026 62834466 2019-01-01 07:18:00\n",
      "239026 62834466 2019-01-01 07:17:51\n",
      "239026 62834466 2019-01-01 07:17:48\n",
      "239026 62834466 2019-01-01 07:18:03\n",
      "239026 62834466 2019-01-01 07:17:52\n",
      "239026 62834466 2019-01-01 07:17:48\n",
      "239026 62834466 2019-01-01 07:18:05\n"
     ]
    }
   ],
   "source": [
    "for i in sub_df.index.values[:10]:\n",
    "    timestamp = sub_df['timestamp'][i]/1000 + offset\n",
    "    value = datetime.datetime.fromtimestamp(timestamp)\n",
    "    print(sub_df['visitor-ids'][i],sub_df['user-ids'][i],value.strftime('%Y-%m-%d %H:%M:%S'))"
   ]
  },
  {
   "cell_type": "code",
   "execution_count": 65,
   "metadata": {},
   "outputs": [
    {
     "name": "stdout",
     "output_type": "stream",
     "text": [
      "[('da', 1281737), ('doc', 704934), ('article', 627995), ('literature-center', 143916), ('personalities', 112236), ('fund', 81356), ('faq', 79430), ('consultant', 69134), ('portfolio-manager', 62237), ('investment-strategies', 57839), ('investment-teams', 49962), ('funds', 37326), ('book', 24618), ('capabilities', 21244), ('doc_viewer', 20375)]\n"
     ]
    },
    {
     "data": {
      "image/png": "[encoded data removed]",
      "text/plain": [
       "<matplotlib.figure.Figure at 0x7f162b820748>"
      ]
     },
     "metadata": {},
     "output_type": "display_data"
    }
   ],
   "source": [
    "path1_count = Counter(path_str_counts)\n",
    "print(path1_count.most_common()[:15])\n",
    "wordcloud = WordCloud().generate_from_frequencies(dict(path1_count))\n",
    "plt.figure()\n",
    "plt.imshow(wordcloud, interpolation=\"bilinear\")\n",
    "plt.axis(\"off\")\n",
    "plt.show()"
   ]
  },
  {
   "cell_type": "code",
   "execution_count": 321,
   "metadata": {},
   "outputs": [
    {
     "data": {
      "text/plain": [
       "85"
      ]
     },
     "execution_count": 321,
     "metadata": {},
     "output_type": "execute_result"
    }
   ],
   "source": [
    "len(path_str_counts)"
   ]
  },
  {
   "cell_type": "code",
   "execution_count": 289,
   "metadata": {},
   "outputs": [],
   "source": [
    "def get_path(y):\n",
    "    #y = df['webpage'][i]\n",
    "    temp = y[1:y[1:].find('/')+1]\n",
    "    if temp == '':\n",
    "        temp = y[1:]\n",
    "    return temp"
   ]
  },
  {
   "cell_type": "code",
   "execution_count": 314,
   "metadata": {},
   "outputs": [
    {
     "name": "stdout",
     "output_type": "stream",
     "text": [
      "0\n",
      "30000\n",
      "60000\n",
      "90000\n",
      "120000\n",
      "150000\n",
      "180000\n",
      "210000\n",
      "240000\n",
      "270000\n",
      "300000\n",
      "330000\n"
     ]
    }
   ],
   "source": [
    "uniq_vis = df['visitor-ids'].unique()\n",
    "visitor_paths = {}\n",
    "for i in range(len(uniq_vis)): \n",
    "    temp_df = df.loc[df['visitor-ids'] == uniq_vis[i]][['timestamp','webpage']]\n",
    "    \n",
    "    u_path = []\n",
    "    for j in temp_df.index.values:\n",
    "        u_path.append((temp_df['timestamp'][j],get_path(temp_df['webpage'][j])))\n",
    "    u_path = sorted(u_path, key = lambda x:x[0])\n",
    "    visitor_paths[uniq_vis[i]] = [x for _,x in u_path]\n",
    "    \n",
    "    if i%30000 == 0:\n",
    "        print(i)"
   ]
  },
  {
   "cell_type": "code",
   "execution_count": 323,
   "metadata": {},
   "outputs": [
    {
     "name": "stdout",
     "output_type": "stream",
     "text": [
      "['doc_viewer', 'literature-center', 'faq', 'da', 'da', 'da', 'da', 'doc', 'article', 'article', 'doc', 'da']\n"
     ]
    }
   ],
   "source": [
    "print(visitor_paths[239007])"
   ]
  },
  {
   "cell_type": "code",
   "execution_count": 320,
   "metadata": {},
   "outputs": [],
   "source": [
    "pickle.dump(visitor_paths, open( \"visitor_paths.pkl\", \"wb\" ) )"
   ]
  },
  {
   "cell_type": "code",
   "execution_count": 38,
   "metadata": {},
   "outputs": [],
   "source": [
    "visitor_paths = pickle.load(open( \"visitor_paths.pkl\", \"rb\" ))"
   ]
  },
  {
   "cell_type": "code",
   "execution_count": 4,
   "metadata": {},
   "outputs": [],
   "source": [
    "pre_score_counts = {}\n",
    "\n",
    "for k in visitor_paths.keys():\n",
    "    for i in range(len(visitor_paths[k])-1):\n",
    "        first = visitor_paths[k][i]\n",
    "        second = visitor_paths[k][i+1]\n",
    "        \n",
    "        if first not in pre_score_counts:\n",
    "            pre_score_counts[first]={}\n",
    "            pre_score_counts[first][second] = 1\n",
    "            \n",
    "        else:\n",
    "            if second not in pre_score_counts[first]:\n",
    "                pre_score_counts[first][second] = 1 \n",
    "            else:\n",
    "                pre_score_counts[first][second] += 1 "
   ]
  },
  {
   "cell_type": "code",
   "execution_count": 33,
   "metadata": {},
   "outputs": [
    {
     "data": {
      "text/plain": [
       "[('da', 406022),\n",
       " ('doc', 219293),\n",
       " ('article', 194926),\n",
       " ('literature-center', 44487),\n",
       " ('personalities', 34886),\n",
       " ('faq', 25246),\n",
       " ('fund', 25030),\n",
       " ('consultant', 21318),\n",
       " ('portfolio-manager', 19565),\n",
       " ('investment-strategies', 17915),\n",
       " ('investment-teams', 15140),\n",
       " ('funds', 11610),\n",
       " ('book', 7791),\n",
       " ('capabilities', 6702),\n",
       " ('doc_viewer', 6258),\n",
       " ('portfolio_summary', 5321),\n",
       " ('pages', 4860),\n",
       " ('interactive', 4593),\n",
       " ('collection', 4075),\n",
       " ('my_profile', 3759),\n",
       " ('www', 3739),\n",
       " ('profile', 3734),\n",
       " ('sales', 3596),\n",
       " ('portfolio-builder', 3247),\n",
       " ('executive-team', 3017),\n",
       " ('Users', 2699),\n",
       " ('insights', 2503),\n",
       " ('investors', 2116),\n",
       " ('password', 2045),\n",
       " ('uploadforms', 1384),\n",
       " ('registration', 1332),\n",
       " ('forgot_password', 1183),\n",
       " ('login', 1149),\n",
       " ('campden-wealth-interactive', 1022),\n",
       " ('events', 969),\n",
       " ('programs', 940),\n",
       " ('sessions', 822),\n",
       " ('ico', 788),\n",
       " ('InvestorPages', 762),\n",
       " ('account_transactions', 590),\n",
       " ('username', 526),\n",
       " ('forgot_user_id', 520),\n",
       " ('advisor_profile', 516),\n",
       " ('collocation', 515),\n",
       " ('redemptions', 508),\n",
       " ('purchases', 508),\n",
       " ('retirement', 508),\n",
       " ('podcasts', 498),\n",
       " ('RedirectedFolders$', 495),\n",
       " ('forms', 473),\n",
       " ('exchanges', 470),\n",
       " ('professional-development', 469),\n",
       " ('advisor', 443),\n",
       " ('models', 299),\n",
       " ('tax-center', 295),\n",
       " ('security_policy', 294),\n",
       " ('register', 291),\n",
       " ('sitemap', 287),\n",
       " ('retirement-planning', 285),\n",
       " ('sitemap.html', 276),\n",
       " ('snw', 274),\n",
       " ('nan', 274),\n",
       " ('taxable-equivalent-yield-calculator', 270),\n",
       " ('accept_reject_security_policy', 268),\n",
       " ('fund_info', 266),\n",
       " ('press-room', 265),\n",
       " ('blockpage.html', 265),\n",
       " ('retirement-programs', 265),\n",
       " ('client-education', 265),\n",
       " ('desktop-only', 265),\n",
       " ('logoutServlet', 264),\n",
       " ('defined-contribution-investment-only', 262),\n",
       " ('failure', 262),\n",
       " ('ar', 258),\n",
       " ('muni-bond-investing', 256),\n",
       " ('logout', 255),\n",
       " ('Homepage', 251),\n",
       " ('security_block', 248),\n",
       " ('about-us', 237),\n",
       " ('search', 235),\n",
       " ('about-oppenheimerfunds', 232),\n",
       " ('contact-us', 225),\n",
       " ('college-savings', 223),\n",
       " ('portfolio-managers', 214),\n",
       " ('login.jsp', 126)]"
      ]
     },
     "execution_count": 33,
     "metadata": {},
     "output_type": "execute_result"
    }
   ],
   "source": [
    "sorted([(k,v) for k,v in pre_score_counts['da'].items()],key = lambda x:x[1],reverse = True)"
   ]
  },
  {
   "cell_type": "code",
   "execution_count": 109,
   "metadata": {},
   "outputs": [],
   "source": [
    "select_keys = sorted([k for k,_ in path1_count.most_common()[:-50]])"
   ]
  },
  {
   "cell_type": "code",
   "execution_count": 88,
   "metadata": {},
   "outputs": [],
   "source": [
    "pl_df = pd.DataFrame(pre_score_counts).fillna(0)\n",
    "pl_df = pl_df.div(pl_df.sum(axis=1), axis=0)"
   ]
  },
  {
   "cell_type": "code",
   "execution_count": 110,
   "metadata": {},
   "outputs": [],
   "source": [
    "pl_df = pl_df[pl_df.index.isin(select_keys)][select_keys]"
   ]
  },
  {
   "cell_type": "code",
   "execution_count": 77,
   "metadata": {},
   "outputs": [],
   "source": [
    "pickle.dump(pl_df, open( \"pl_df.pkl\", \"wb\" ) )"
   ]
  },
  {
   "cell_type": "code",
   "execution_count": 123,
   "metadata": {},
   "outputs": [
    {
     "data": {
      "text/plain": [
       "Text(0.5,1,'Most probable next domain path (Only for Top 35)')"
      ]
     },
     "execution_count": 123,
     "metadata": {},
     "output_type": "execute_result"
    },
    {
     "data": {
      "image/png": "[encoded data removed]",
      "text/plain": [
       "<matplotlib.figure.Figure at 0x7f16220489e8>"
      ]
     },
     "metadata": {},
     "output_type": "display_data"
    }
   ],
   "source": [
    "fig = plt.figure(figsize=(14,8))\n",
    "sns_plot = sns.heatmap(pl_df, cmap='BuPu')\n",
    "sns_plot.set_title(\"Most probable next domain path (Only for Top 35)\")"
   ]
  },
  {
   "cell_type": "code",
   "execution_count": 83,
   "metadata": {},
   "outputs": [],
   "source": [
    "fig = sns_plot.get_figure()\n",
    "fig.savefig(\"output.png\")"
   ]
  },
  {
   "cell_type": "code",
   "execution_count": 338,
   "metadata": {},
   "outputs": [],
   "source": [
    "first_counts = {}\n",
    "for key in visitor_paths.keys():\n",
    "    temp = visitor_paths[key][0]\n",
    "    if temp not in first_counts:\n",
    "        first_counts[temp] = 1\n",
    "    else:\n",
    "        first_counts[temp] += 1"
   ]
  },
  {
   "cell_type": "code",
   "execution_count": 340,
   "metadata": {},
   "outputs": [
    {
     "data": {
      "text/plain": [
       "[('da', 116541),\n",
       " ('doc', 68379),\n",
       " ('article', 60856),\n",
       " ('literature-center', 13982),\n",
       " ('personalities', 10850),\n",
       " ('fund', 9191),\n",
       " ('consultant', 7196),\n",
       " ('faq', 6728),\n",
       " ('investment-strategies', 6054),\n",
       " ('portfolio-manager', 5683)]"
      ]
     },
     "execution_count": 340,
     "metadata": {},
     "output_type": "execute_result"
    }
   ],
   "source": [
    "sorted([(k,v) for k,v in first_counts.items()],key = lambda x:x[1],reverse = True)[:10]"
   ]
  },
  {
   "cell_type": "code",
   "execution_count": 115,
   "metadata": {},
   "outputs": [],
   "source": [
    "from nltk import ngrams"
   ]
  },
  {
   "cell_type": "code",
   "execution_count": 370,
   "metadata": {},
   "outputs": [
    {
     "name": "stdout",
     "output_type": "stream",
     "text": [
      "('da', 'article', 'article', 'da', 'da', 'article', 'da')\n",
      "('da', 'da', 'doc', 'da', 'doc', 'da', 'da')\n",
      "('investment-strategies', 'da', 'da', 'article', 'da', 'da', 'doc')\n",
      "('da', 'da', 'da', 'da', 'da', 'da', 'da')\n",
      "('da', 'doc', 'da', 'doc', 'da', 'doc', 'da')\n",
      "('doc', 'da', 'doc', 'da', 'doc', 'da', 'doc')\n",
      "('da', 'da', 'da', 'article', 'da', 'da', 'da')\n",
      "('article', 'da', 'da', 'da', 'da', 'article', 'doc')\n",
      "('consultant', 'doc', 'da', 'doc', 'da', 'da', 'da')\n",
      "('da', 'da', 'article', 'doc', 'da', 'da', 'da')\n",
      "('da', 'article', 'doc', 'da', 'da', 'da', 'article')\n",
      "('consultant', 'doc', 'da', 'da', 'da', 'doc', 'article')\n",
      "('da', 'doc', 'da', 'da', 'doc', 'article', 'da')\n",
      "('da', 'doc', 'article', 'da', 'doc', 'article', 'da')\n",
      "('article', 'article', 'da', 'article', 'article', 'article', 'da')\n",
      "('da', 'article', 'da', 'da', 'da', 'da', 'da')\n",
      "('da', 'da', 'doc', 'doc', 'da', 'article', 'book')\n",
      "('da', 'doc', 'da', 'da', 'da', 'da', 'doc')\n",
      "('da', 'da', 'article', 'da', 'da', 'article', 'da')\n",
      "('da', 'da', 'doc', 'doc', 'da', 'da', 'doc')\n",
      "('article', 'da', 'da', 'da', 'doc', 'da', 'doc')\n",
      "('da', 'da', 'da', 'doc', 'da', 'doc', 'da')\n",
      "('da', 'da', 'da', 'doc', 'doc', 'da', 'da')\n",
      "('da', 'doc', 'da', 'funds', 'da', 'da', 'doc')\n",
      "('doc', 'da', 'da', 'literature-center', 'doc', 'da', 'da')\n",
      "('da', 'da', 'doc', 'da', 'da', 'da', 'doc')\n",
      "('da', 'da', 'doc', 'da', 'da', 'doc', 'da')\n",
      "('article', 'da', 'da', 'da', 'article', 'da', 'da')\n",
      "('da', 'da', 'article', 'da', 'da', 'da', 'article')\n",
      "('da', 'article', 'da', 'da', 'da', 'article', 'da')\n",
      "('da', 'doc', 'article', 'da', 'da', 'doc', 'article')\n",
      "('da', 'doc', 'article', 'doc', 'doc', 'da', 'da')\n",
      "('da', 'da', 'da', 'article', 'da', 'doc', 'da')\n",
      "('da', 'da', 'article', 'da', 'doc', 'da', 'doc')\n",
      "('da', 'da', 'da', 'doc', 'article', 'da', 'da')\n",
      "('doc', 'da', 'article', 'doc', 'article', 'doc', 'da')\n",
      "('da', 'da', 'da', 'da', 'da', 'da', 'doc')\n",
      "('doc', 'da', 'da', 'da', 'da', 'da', 'da')\n",
      "('da', 'da', 'article', 'doc', 'article', 'da', 'da')\n",
      "('doc', 'da', 'da', 'da', 'da', 'doc', 'doc')\n",
      "('doc', 'article', 'article', 'da', 'article', 'da', 'da')\n",
      "('da', 'article', 'da', 'personalities', 'da', 'article', 'da')\n",
      "('doc', 'doc', 'doc', 'da', 'da', 'doc', 'article')\n",
      "('da', 'da', 'doc', 'da', 'da', 'article', 'da')\n",
      "('da', 'da', 'da', 'article', 'da', 'article', 'da')\n",
      "('da', 'da', 'da', 'da', 'da', 'article', 'da')\n",
      "('da', 'da', 'da', 'da', 'da', 'da', 'article')\n",
      "('da', 'da', 'da', 'da', 'article', 'da', 'article')\n",
      "('da', 'doc', 'da', 'article', 'article', 'da', 'da')\n",
      "('doc', 'da', 'article', 'doc', 'da', 'article', 'doc')\n",
      "('da', 'da', 'article', 'da', 'article', 'da', 'da')\n",
      "('doc', 'da', 'doc', 'da', 'doc', 'article', 'da')\n",
      "('da', 'da', 'book', 'da', 'da', 'da', 'da')\n",
      "('doc', 'da', 'book', 'doc', 'da', 'da', 'da')\n",
      "('doc', 'da', 'doc', 'article', 'da', 'da', 'da')\n",
      "('da', 'da', 'article', 'article', 'da', 'da', 'da')\n",
      "('doc', 'da', 'da', 'doc', 'doc', 'da', 'da')\n",
      "('doc', 'doc', 'article', 'doc', 'doc', 'da', 'da')\n",
      "('article', 'doc', 'doc', 'article', 'doc', 'doc', 'da')\n",
      "('da', 'doc', 'doc', 'doc', 'da', 'doc', 'article')\n",
      "('da', 'da', 'da', 'doc', 'da', 'da', 'da')\n",
      "('da', 'da', 'da', 'da', 'doc', 'da', 'da')\n",
      "('da', 'da', 'article', 'fund', 'da', 'da', 'da')\n",
      "('article', 'da', 'article', 'doc', 'da', 'doc', 'article')\n",
      "('da', 'da', 'article', 'doc', 'da', 'article', 'doc')\n",
      "('da', 'article', 'doc', 'da', 'article', 'doc', 'da')\n",
      "('da', 'da', 'article', 'da', 'da', 'da', 'da')\n",
      "('doc', 'da', 'article', 'da', 'da', 'article', 'da')\n",
      "('article', 'article', 'article', 'article', 'article', 'article', 'article')\n",
      "('da', 'article', 'da', 'da', 'article', 'da', 'da')\n",
      "('da', 'da', 'article', 'literature-center', 'da', 'article', 'da')\n",
      "('article', 'da', 'doc', 'da', 'doc', 'doc', 'doc')\n",
      "('da', 'article', 'da', 'da', 'doc', 'da', 'da')\n",
      "('doc', 'doc', 'da', 'article', 'da', 'da', 'da')\n",
      "('da', 'da', 'doc', 'da', 'article', 'da', 'da')\n",
      "('doc', 'article', 'doc', 'da', 'doc', 'article', 'doc')\n",
      "('literature-center', 'da', 'doc', 'da', 'da', 'da', 'article')\n",
      "('da', 'doc', 'da', 'da', 'da', 'article', 'da')\n",
      "('da', 'da', 'da', 'da', 'article', 'doc', 'portfolio-manager')\n",
      "('da', 'da', 'da', 'article', 'doc', 'portfolio-manager', 'da')\n",
      "('article', 'da', 'article', 'da', 'da', 'da', 'article')\n",
      "('article', 'literature-center', 'doc', 'da', 'doc', 'da', 'article')\n",
      "('doc', 'da', 'da', 'da', 'da', 'doc', 'da')\n",
      "('doc', 'doc', 'da', 'da', 'doc', 'doc', 'da')\n",
      "('da', 'article', 'da', 'da', 'da', 'da', 'literature-center')\n",
      "('da', 'da', 'da', 'da', 'doc', 'da', 'article')\n",
      "('article', 'da', 'doc', 'faq', 'da', 'doc', 'article')\n",
      "('da', 'article', 'doc', 'da', 'da', 'da', 'da')\n",
      "('article', 'da', 'da', 'da', 'da', 'interactive', 'article')\n",
      "('article', 'da', 'doc', 'doc', 'article', 'da', 'doc')\n",
      "('da', 'doc', 'doc', 'article', 'da', 'doc', 'doc')\n",
      "('doc', 'da', 'da', 'article', 'da', 'article', 'article')\n",
      "('da', 'da', 'doc', 'doc', 'doc', 'da', 'da')\n",
      "('da', 'article', 'da', 'article', 'da', 'doc', 'da')\n",
      "('da', 'da', 'da', 'da', 'article', 'da', 'da')\n",
      "('da', 'article', 'da', 'da', 'doc', 'doc', 'da')\n",
      "('da', 'da', 'da', 'doc', 'personalities', 'da', 'doc')\n",
      "('doc', 'da', 'da', 'doc', 'da', 'da', 'doc')\n",
      "('da', 'da', 'da', 'article', 'doc', 'da', 'da')\n",
      "('doc', 'doc', 'doc', 'doc', 'doc', 'doc', 'doc')\n",
      "('da', 'faq', 'da', 'da', 'doc', 'doc', 'da')\n",
      "('faq', 'da', 'da', 'doc', 'doc', 'da', 'doc')\n",
      "('doc', 'da', 'da', 'doc', 'article', 'doc', 'da')\n",
      "('da', 'doc', 'article', 'doc', 'da', 'da', 'doc')\n",
      "('da', 'da', 'doc', 'article', 'doc', 'da', 'da')\n",
      "('da', 'doc', 'da', 'da', 'doc', 'da', 'da')\n",
      "('doc', 'da', 'da', 'da', 'doc', 'da', 'da')\n",
      "('da', 'da', 'da', 'da', 'da', 'doc', 'da')\n",
      "('da', 'doc', 'article', 'da', 'da', 'da', 'da')\n",
      "('da', 'da', 'doc', 'da', 'da', 'da', 'da')\n",
      "('da', 'doc', 'doc', 'da', 'da', 'doc', 'da')\n",
      "('da', 'da', 'da', 'doc', 'da', 'da', 'article')\n",
      "('da', 'da', 'da', 'da', 'doc', 'doc', 'da')\n",
      "('da', 'faq', 'article', 'doc', 'article', 'da', 'da')\n",
      "('da', 'da', 'faq', 'article', 'doc', 'article', 'da')\n",
      "('doc', 'da', 'article', 'da', 'article', 'doc', 'article')\n",
      "('da', 'article', 'doc', 'article', 'da', 'da', 'da')\n",
      "('article', 'da', 'doc', 'doc', 'da', 'da', 'da')\n",
      "('doc', 'da', 'da', 'literature-center', 'da', 'da', 'doc')\n",
      "('article', 'article', 'article', 'da', 'da', 'da', 'da')\n",
      "('da', 'doc', 'doc', 'da', 'da', 'doc', 'doc')\n",
      "('da', 'article', 'da', 'article', 'da', 'article', 'da')\n",
      "('da', 'da', 'da', 'da', 'doc', 'article', 'da')\n",
      "('doc', 'da', 'investment-strategies', 'doc', 'da', 'da', 'da')\n",
      "('portfolio-manager', 'literature-center', 'da', 'da', 'da', 'da', 'article')\n",
      "('doc', 'article', 'da', 'article', 'article', 'da', 'da')\n",
      "('article', 'da', 'doc', 'doc', 'da', 'da', 'doc')\n",
      "('da', 'doc', 'da', 'doc', 'da', 'da', 'doc')\n",
      "('da', 'article', 'da', 'article', 'da', 'da', 'da')\n",
      "('da', 'da', 'da', 'da', 'da', 'doc', 'doc')\n",
      "('doc', 'article', 'doc', 'doc', 'article', 'da', 'da')\n",
      "('da', 'da', 'da', 'da', 'da', 'article', 'article')\n",
      "('da', 'doc', 'doc', 'da', 'da', 'doc', 'article')\n",
      "('doc', 'doc', 'da', 'doc', 'doc', 'doc', 'da')\n",
      "('da', 'article', 'da', 'da', 'article', 'investment-strategies', 'article')\n",
      "('da', 'article', 'da', 'doc', 'da', 'da', 'da')\n",
      "('doc', 'da', 'doc', 'doc', 'da', 'doc', 'doc')\n",
      "('article', 'doc', 'doc', 'da', 'da', 'da', 'article')\n",
      "('doc', 'doc', 'da', 'da', 'da', 'article', 'da')\n",
      "('da', 'article', 'doc', 'doc', 'da', 'da', 'da')\n",
      "('da', 'article', 'da', 'da', 'da', 'doc', 'da')\n",
      "('article', 'da', 'article', 'da', 'article', 'da', 'article')\n",
      "('da', 'da', 'da', 'da', 'doc', 'da', 'doc')\n",
      "('article', 'article', 'da', 'da', 'da', 'article', 'article')\n",
      "('da', 'da', 'doc', 'article', 'da', 'doc', 'da')\n",
      "('faq', 'doc', 'doc', 'da', 'article', 'article', 'faq')\n",
      "('da', 'article', 'da', 'article', 'article', 'da', 'article')\n",
      "('doc', 'article', 'da', 'doc', 'da', 'doc', 'article')\n"
     ]
    }
   ],
   "source": [
    "most_sequence = []\n",
    "for key in list(visitor_paths.keys()):\n",
    "    cc = dict(Counter(ngrams(visitor_paths[key], 7)))\n",
    "    for k,v in cc.items():\n",
    "        if v>1:\n",
    "            if k not in most_sequence:\n",
    "                most_sequence.append(k)\n",
    "                print(k)        "
   ]
  },
  {
   "cell_type": "code",
   "execution_count": 389,
   "metadata": {},
   "outputs": [],
   "source": [
    "sum_browser_times = {k:0 for k in df['browser'].unique()}\n",
    "count_browser_times = {k:0 for k in df['browser'].unique()}\n",
    "sum_platform_times = {k:0 for k in df['platform'].unique()}\n",
    "count_platform_times = {k:0 for k in df['platform'].unique()}"
   ]
  },
  {
   "cell_type": "code",
   "execution_count": 416,
   "metadata": {},
   "outputs": [
    {
     "name": "stdout",
     "output_type": "stream",
     "text": [
      "0\n",
      "100000\n",
      "200000\n",
      "300000\n"
     ]
    }
   ],
   "source": [
    "for i in range(len(uniq_vis)): \n",
    "    temp_df = df.loc[df['visitor-ids'] == uniq_vis[i]][['timestamp','browser','platform']]\n",
    "    \n",
    "    brow = temp_df['browser'].unique()[0]\n",
    "    plat = temp_df['platform'].unique()[0]\n",
    "    time_spent = int((temp_df['timestamp'].max()-temp_df['timestamp'].min())/1000)\n",
    "    \n",
    "    sum_browser_times[brow] += time_spent\n",
    "    count_browser_times[brow] += 1\n",
    "    sum_platform_times[plat] += time_spent\n",
    "    count_platform_times[plat] += 1\n",
    "    \n",
    "    if i%100000 == 0:\n",
    "        print(i)"
   ]
  },
  {
   "cell_type": "code",
   "execution_count": 420,
   "metadata": {},
   "outputs": [
    {
     "name": "stdout",
     "output_type": "stream",
     "text": [
      "{'desktop-windows': 228.2318802102692, 'mobile-ios': 226.2712088144185, 'desktop-macOS': 226.78217063706126, 'mobile-other': 232.63395449506413, 'mobile-android': 228.73842791754137, 'desktop-other': 232.2195750382191}\n",
      "{'Firefox': 230.15677616676584, 'Safari': 231.8332708020677, 'Chrome, Safari': 226.2712088144185, 'Chrome': 228.32611991009355, 'Edge': 229.5369423012412}\n"
     ]
    }
   ],
   "source": [
    "avg_browser_times = {}\n",
    "avg_platform_times = {}\n",
    "for key in sum_browser_times.keys():\n",
    "    avg_browser_times[key] = sum_browser_times[key]/count_browser_times[key]\n",
    "for key in sum_platform_times.keys():\n",
    "    avg_platform_times[key] = sum_platform_times[key]/count_platform_times[key]"
   ]
  },
  {
   "cell_type": "code",
   "execution_count": 422,
   "metadata": {},
   "outputs": [
    {
     "data": {
      "image/png": "[encoded data removed]",
      "text/plain": [
       "<matplotlib.figure.Figure at 0x7f1a2b683f60>"
      ]
     },
     "metadata": {},
     "output_type": "display_data"
    }
   ],
   "source": [
    "plt.bar(range(len(avg_platform_times)), list(avg_platform_times.values()), align='center')\n",
    "plt.xticks(range(len(avg_platform_times)), list(avg_platform_times.keys()))\n",
    "plt.show()"
   ]
  },
  {
   "cell_type": "code",
   "execution_count": 427,
   "metadata": {
    "scrolled": true
   },
   "outputs": [
    {
     "data": {
      "image/png": "[encoded data removed]",
      "text/plain": [
       "<matplotlib.figure.Figure at 0x7f19aca0fd68>"
      ]
     },
     "metadata": {},
     "output_type": "display_data"
    }
   ],
   "source": [
    "plt.bar(range(len(avg_browser_times)), list(avg_browser_times.values()), align='center')\n",
    "plt.xticks(range(len(avg_browser_times)), list(avg_browser_times.keys()),rotation=90)\n",
    "\n",
    "plt.show()"
   ]
  },
  {
   "cell_type": "code",
   "execution_count": 5,
   "metadata": {},
   "outputs": [],
   "source": [
    "from sklearn.feature_extraction.text import TfidfVectorizer\n",
    "from sklearn.cluster import KMeans"
   ]
  },
  {
   "cell_type": "code",
   "execution_count": 28,
   "metadata": {},
   "outputs": [],
   "source": [
    "whole_path = []\n",
    "for key in visitor_paths.keys():\n",
    "    whole_path.append(' '.join(visitor_paths[key]))"
   ]
  },
  {
   "cell_type": "code",
   "execution_count": 33,
   "metadata": {},
   "outputs": [],
   "source": [
    "tfidf_vectorizer = TfidfVectorizer(ngram_range=(2, 4))"
   ]
  },
  {
   "cell_type": "code",
   "execution_count": 34,
   "metadata": {},
   "outputs": [],
   "source": [
    "tfidf_matrix = tfidf_vectorizer.fit_transform(whole_path)"
   ]
  },
  {
   "cell_type": "code",
   "execution_count": 35,
   "metadata": {},
   "outputs": [],
   "source": [
    "kmeans_model = KMeans(n_clusters=2).fit(tfidf_matrix)\n",
    "labels = kmeans_model.labels_"
   ]
  },
  {
   "cell_type": "code",
   "execution_count": 37,
   "metadata": {},
   "outputs": [
    {
     "name": "stdout",
     "output_type": "stream",
     "text": [
      "Top terms per cluster:\n",
      "Cluster 0 words: da da,da da da,da da da da,doc da da,doc da,da da doc,article da da,da doc,da da article,article da,da article,doc da da da,da da da doc,da doc da,article da da da,da da da article,da article da,da doc da da,da da doc da,da da article da,da article da da,doc doc,article doc,literature center,doc article,\n",
      "\n",
      "Cluster 1 words: doc da,da doc,da da,article da,da article,doc doc,literature center,doc article,article doc,article article,da doc da,da article da,portfolio manager,investment strategies,doc da da,center da,literature center da,da da da,investment teams,da da doc,article da da,da literature,da literature center,doc da doc,doc doc da,\n",
      "\n"
     ]
    }
   ],
   "source": [
    "#Having 2 Clusters\n",
    "terms = tfidf_vectorizer.get_feature_names()\n",
    "print(\"Top terms per cluster:\")\n",
    "order_centroids = kmeans_model.cluster_centers_.argsort()[:, ::-1]\n",
    "for i in range(2):\n",
    "    print(\"Cluster %d words: \" % i, end='')\n",
    "    \n",
    "    for ind in order_centroids[i, :25]:\n",
    "        print(terms[ind], end=',')\n",
    "    print('\\n')"
   ]
  },
  {
   "cell_type": "code",
   "execution_count": 32,
   "metadata": {},
   "outputs": [
    {
     "name": "stdout",
     "output_type": "stream",
     "text": [
      "Top terms per cluster:\n",
      "Cluster 0 words: da da,da da da,da da da da,doc da da,article da da,da da doc,da da article,doc da,article da,da doc,da da da da da,da article,doc da da da,da da da doc,article da da da,\n",
      "\n",
      "Cluster 1 words: da da,article da,da article,doc da,da doc,doc doc,literature center,doc article,article doc,article article,da da da,da article da,portfolio manager,article da da,investment strategies,\n",
      "\n",
      "Cluster 2 words: doc da,da doc,da doc da,doc da doc,doc doc,doc doc da,da doc doc,da da,doc da da,da da doc,doc da doc da,da doc da da,article da doc,da da doc da,da doc da doc,\n",
      "\n"
     ]
    }
   ],
   "source": [
    "#Having 3 Clusters\n",
    "terms = tfidf_vectorizer.get_feature_names()\n",
    "print(\"Top terms per cluster:\")\n",
    "order_centroids = kmeans_model.cluster_centers_.argsort()[:, ::-1]\n",
    "for i in range(3):\n",
    "    print(\"Cluster %d words: \" % i, end='')\n",
    "    \n",
    "    for ind in order_centroids[i, :15]:\n",
    "        print(terms[ind], end=',')\n",
    "    print('\\n')"
   ]
  }
 ],
 "metadata": {
  "kernelspec": {
   "display_name": "Python 3",
   "language": "python",
   "name": "python3"
  },
  "language_info": {
   "codemirror_mode": {
    "name": "ipython",
    "version": 3
   },
   "file_extension": ".py",
   "mimetype": "text/x-python",
   "name": "python",
   "nbconvert_exporter": "python",
   "pygments_lexer": "ipython3",
   "version": "3.5.4"
  }
 },
 "nbformat": 4,
 "nbformat_minor": 2
}
